{
 "cells": [
  {
   "cell_type": "markdown",
   "id": "0d3045d0-a792-465e-93d3-dbd61d7bc1fe",
   "metadata": {
    "tags": []
   },
   "source": [
    "# Models"
   ]
  },
  {
   "cell_type": "markdown",
   "id": "79985428-8c3d-463a-8e9e-e7ddc4c3ad7b",
   "metadata": {},
   "source": [
    "In this notebook I will be discussing mathematical models.  \n",
    "The aims are to:  \n",
    " - Explain what a mathematical model is.\n",
    " - Develop a mathematical model based on data points.\n",
    " - Run code to find the best values for parameters of a model.\n",
    " - Solve a modeling problem anaytically"
   ]
  },
  {
   "cell_type": "markdown",
   "id": "5e64d715-abdf-4478-ac75-abf3841b8b6d",
   "metadata": {},
   "source": [
    "#### Backgrond to how with two points we can create a straight line...and find all the other points on the line.\n",
    "We are thought that if we have two points we know all the other points in a line.  \n",
    "The mathematical formula for that is *y = 2x + 1*.    \n",
    "See the code representing this below."
   ]
  },
  {
   "cell_type": "code",
   "execution_count": 1,
   "id": "c12f9fb8-cc5e-4913-a6f8-3ff3af087469",
   "metadata": {},
   "outputs": [],
   "source": [
    "# Import Matplotlib\n",
    "import matplotlib.pyplot as plt"
   ]
  },
  {
   "cell_type": "code",
   "execution_count": 2,
   "id": "6408850a-7a81-470e-80ce-3a30cc77a0f8",
   "metadata": {},
   "outputs": [
    {
     "data": {
      "image/png": "[encoded data removed]",
      "text/plain": [
       "<Figure size 432x288 with 1 Axes>"
      ]
     },
     "metadata": {
      "needs_background": "light"
     },
     "output_type": "display_data"
    }
   ],
   "source": [
    "# Draw axes\n",
    "plt.plot ([-1, 10], [0,0], 'k-')\n",
    "plt.plot ([0, 0], [-1, 10], 'k-')\n",
    "\n",
    "# Plot the red, blue and green lines\n",
    "plt.plot ([1, 1], [-1,3], 'b:')\n",
    "plt.plot ([-1, 1], [3,3], 'r:')\n",
    "\n",
    "# Plot the two points (1,3) and (2,5)\n",
    "plt.plot ([1, 2], [3, 5], 'ko')\n",
    "# Join the points with a green line\n",
    "plt.plot([-1, 10], [-1,21], 'g-')\n",
    "\n",
    "# Set plot limits\n",
    "plt.xlim([-1, 10])\n",
    "plt.ylim([-1, 10])\n",
    "\n",
    "\n",
    "#Show plot\n",
    "plt.show()\n",
    "\n",
    "\n",
    "\n"
   ]
  },
  {
   "cell_type": "markdown",
   "id": "fbb6451d-6780-407c-9c33-ac57bf3cb89b",
   "metadata": {},
   "source": []
  },
  {
   "cell_type": "markdown",
   "id": "f213e32b-781a-45df-9f06-7c7b3acd2d0c",
   "metadata": {},
   "source": [
    "# Experiment"
   ]
  },
  {
   "cell_type": "markdown",
   "id": "bae8b593-4002-4ad1-b1a3-b10b17bba910",
   "metadata": {},
   "source": [
    "#### Problem\n",
    "You want to find if the weight of a suitcase is <=10kg but have no weighing scales, but have gym gear - what do you do?\n",
    "\n",
    "#### Tools\n",
    "You have  weights - 1K, 2Kg, 3Kg...up to 21Kg.  \n",
    "A spring.  \n",
    "A fixture to hang the spring on the wall.  \n",
    "\n",
    "#### Hypothesis\n",
    "When you hang three weights off the wall (7kg, 14kg and 21kg) one at a time and mark the distance each are from the fixure you can see the weights are evenly spaced.\n",
    "You hang the suitcase and can see the distance from the fixture is exactly between the 7kg and 14kg.\n",
    "Can you assume the suitcase is 10.5kg and .5kg overweight??\n"
   ]
  },
  {
   "cell_type": "markdown",
   "id": "c5ebd10f-ab46-4925-bdf7-82aa1e2a8b53",
   "metadata": {},
   "source": [
    "#### Experiment\n",
    "Place each weight on the spring in turn and measure the distance from the fixture.  \n",
    "Tabulate and plot the data"
   ]
  },
  {
   "cell_type": "markdown",
   "id": "408a628b-a139-43aa-8662-1042c0780062",
   "metadata": {},
   "source": [
    "#### Analysis"
   ]
  },
  {
   "cell_type": "code",
   "execution_count": 4,
   "id": "bcfc121f-665f-4d79-9ab4-acc786d04b46",
   "metadata": {},
   "outputs": [],
   "source": [
    "#Import the required python libraries\n",
    "\n",
    "# Numpy - allows numerical investigation using multi-dimentional arrays and random number generation\n",
    "import numpy as np\n",
    "\n",
    "# Matplotlib.pyplot - plotting library\n",
    "import matplotlib.pyplot as plt\n",
    "\n",
    "#allows us to adjust size of plots from default\n",
    "plt.rcParams['figure.figsize'] = (8,6)"
   ]
  },
  {
   "cell_type": "code",
   "execution_count": 5,
   "id": "f4fb1b6b-1a46-4fa6-9f67-665f48b074e9",
   "metadata": {},
   "outputs": [],
   "source": [
    "# Faking up the plotting data\n",
    "\n",
    "# independant variable - values from 0-21 in steps of 1\n",
    "w = np.arange(0.0, 21.0, 1.0)\n",
    "\n",
    "# Dependant variable(pretend you dont know this)\n",
    "# d = 5 times w + 10, and then add on some random normal noise centerd on 0, spread of 5, and the same amout of values as w\n",
    "d = 5.0 * w + 10.0 + np.random.normal(0.0, 5.0, w.size)"
   ]
  },
  {
   "cell_type": "code",
   "execution_count": 6,
   "id": "000a0e91-353c-446b-a958-b260b25663cc",
   "metadata": {},
   "outputs": [
    {
     "data": {
      "text/plain": [
       "array([ 0.,  1.,  2.,  3.,  4.,  5.,  6.,  7.,  8.,  9., 10., 11., 12.,\n",
       "       13., 14., 15., 16., 17., 18., 19., 20.])"
      ]
     },
     "execution_count": 6,
     "metadata": {},
     "output_type": "execute_result"
    }
   ],
   "source": [
    "# look at values in w\n",
    "w"
   ]
  },
  {
   "cell_type": "code",
   "execution_count": 7,
   "id": "575d9089-b1fc-4220-89db-11cbb891790b",
   "metadata": {},
   "outputs": [
    {
     "data": {
      "text/plain": [
       "array([  9.06514571,  11.48994533,  10.17480663,  28.75972006,\n",
       "        31.65645367,  22.75475159,  36.71887636,  52.14419074,\n",
       "        57.19242211,  59.95674367,  58.34533169,  71.10396553,\n",
       "        72.01752555,  72.9395214 ,  75.69800724,  89.87415064,\n",
       "        86.05590592,  93.09285223, 100.51457453, 112.35606648,\n",
       "       110.84324026])"
      ]
     },
     "execution_count": 7,
     "metadata": {},
     "output_type": "execute_result"
    }
   ],
   "source": [
    "# Look at values in d\n",
    "d"
   ]
  },
  {
   "cell_type": "markdown",
   "id": "40488663-fc0f-4ddb-945e-5e542a3c3cf4",
   "metadata": {},
   "source": [
    "##### Create the plot from our data in w and d"
   ]
  },
  {
   "cell_type": "code",
   "execution_count": 8,
   "id": "b1b8d324-f3a2-4a56-aace-3de4bee066ae",
   "metadata": {},
   "outputs": [
    {
     "data": {
      "image/png": "[encoded data removed]",
      "text/plain": [
       "<Figure size 576x432 with 1 Axes>"
      ]
     },
     "metadata": {
      "needs_background": "light"
     },
     "output_type": "display_data"
    }
   ],
   "source": [
    "# Generate plot\n",
    "plt.plot(w, d, 'k.')\n",
    "\n",
    "# Set properties for the plot\n",
    "plt.xlabel('Weight (Kg)')\n",
    "plt.ylabel('Distance (Cm)')\n",
    "\n",
    "#Show the plot\n",
    "plt.show()\n",
    "\n",
    "\n"
   ]
  },
  {
   "cell_type": "markdown",
   "id": "073d5071-38dd-40e4-987f-108151160ae2",
   "metadata": {},
   "source": [
    "##### Model\n",
    "\n",
    "So from that plot it looks like the data is linear (kinda).  \n",
    "The point are not in exacxtly a straight line but we can see the trend.  \n",
    "THe heavier the weight the larger the distance - as expected.  \n",
    "The reason for it not being straight may vary: bad measurement/dodgy spring/air pressure etc. \n",
    "\n",
    "Now time to see what best line will fit the data."
   ]
  },
  {
   "cell_type": "markdown",
   "id": "fff46161-eb0b-444c-95c6-f792c3118a2f",
   "metadata": {},
   "source": [
    "#### Straight Lines\n",
    "\n",
    "All stratight lines can be expressed with the formula ***y = mx + c***.\n",
    "\n",
    "**m** is the slope of the line.  \n",
    "The slope is how much **y** increases when **x** is increased by 1.0. \n",
    "\n",
    "**c** is the number of the **y-intercept** of the line.  \n",
    "It is the value of **y** when **x = 0**.\n"
   ]
  },
  {
   "cell_type": "markdown",
   "id": "f5519bec-ecfc-4fd7-8cff-5b336f6c0565",
   "metadata": {},
   "source": [
    "#### Fitting the model\n",
    "\n",
    "To fit a straight line to the data we must pick values for **m** and **c**."
   ]
  },
  {
   "cell_type": "code",
   "execution_count": null,
   "id": "d69ac703-64b6-4be5-9505-5f85c776ca1f",
   "metadata": {},
   "outputs": [],
   "source": []
  },
  {
   "cell_type": "code",
   "execution_count": null,
   "id": "943b8974-dad9-4ad4-9fba-1db1fb290a1c",
   "metadata": {},
   "outputs": [],
   "source": []
  },
  {
   "cell_type": "code",
   "execution_count": null,
   "id": "3055acd2-50d5-484a-a146-4ace0312649b",
   "metadata": {},
   "outputs": [],
   "source": []
  },
  {
   "cell_type": "code",
   "execution_count": null,
   "id": "33c7594b-9d3e-429d-8d52-ed23942e9c45",
   "metadata": {},
   "outputs": [],
   "source": []
  },
  {
   "cell_type": "code",
   "execution_count": null,
   "id": "9ace6bdd-c444-469a-bda6-a1812d4ab5ff",
   "metadata": {},
   "outputs": [],
   "source": []
  },
  {
   "cell_type": "code",
   "execution_count": null,
   "id": "7c98ae72-f99f-4367-97f5-960b37f62c4a",
   "metadata": {},
   "outputs": [],
   "source": []
  },
  {
   "cell_type": "code",
   "execution_count": null,
   "id": "96e4028b-9068-49dd-83d2-1469f930f3a9",
   "metadata": {},
   "outputs": [],
   "source": []
  }
 ],
 "metadata": {
  "kernelspec": {
   "display_name": "Python 3 (ipykernel)",
   "language": "python",
   "name": "python3"
  },
  "language_info": {
   "codemirror_mode": {
    "name": "ipython",
    "version": 3
   },
   "file_extension": ".py",
   "mimetype": "text/x-python",
   "name": "python",
   "nbconvert_exporter": "python",
   "pygments_lexer": "ipython3",
   "version": "3.9.12"
  }
 },
 "nbformat": 4,
 "nbformat_minor": 5
}
