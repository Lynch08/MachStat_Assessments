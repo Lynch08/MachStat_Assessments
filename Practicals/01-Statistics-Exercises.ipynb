{
 "cells": [
  {
   "cell_type": "markdown",
   "id": "3a3073ca",
   "metadata": {},
   "source": [
    "### Exercise 1.1\n",
    "###### Remember to do these exercises in your own notebook in your assessment repository.\n",
    "\n",
    "The above gives about a 1.5% chance of randomly selecting the correct cups. Calculate the minimum number of cups of tea required to ensure the probability of randomly selecting the correct cups is less than or equal to 1%.\n",
    "\n"
   ]
  },
  {
   "cell_type": "markdown",
   "id": "aa3d0d25",
   "metadata": {},
   "source": [
    "This code is adapted from https://stackoverflow.com/a/4941932/17170567"
   ]
  },
  {
   "cell_type": "code",
   "execution_count": 1,
   "id": "e6b5b44d",
   "metadata": {},
   "outputs": [],
   "source": [
    "# Math Module\n",
    "import math"
   ]
  },
  {
   "cell_type": "code",
   "execution_count": 2,
   "id": "2f914cad",
   "metadata": {},
   "outputs": [
    {
     "data": {
      "text/plain": [
       "70"
      ]
     },
     "execution_count": 2,
     "metadata": {},
     "output_type": "execute_result"
    }
   ],
   "source": [
    "#Number of ways of selecting 4 cups from 8\n",
    "math.comb(8,4)"
   ]
  },
  {
   "cell_type": "code",
   "execution_count": 3,
   "id": "3e0a3faa",
   "metadata": {},
   "outputs": [
    {
     "data": {
      "text/plain": [
       "252"
      ]
     },
     "execution_count": 3,
     "metadata": {},
     "output_type": "execute_result"
    }
   ],
   "source": [
    "#Number of ways of selecting 5 cups from 10\n",
    "math.comb(10,5)"
   ]
  },
  {
   "cell_type": "code",
   "execution_count": 4,
   "id": "f3fc4ed6",
   "metadata": {},
   "outputs": [
    {
     "data": {
      "text/plain": [
       "0.003968253968253968"
      ]
     },
     "execution_count": 4,
     "metadata": {},
     "output_type": "execute_result"
    }
   ],
   "source": [
    "#Probability of randomly selecting correct 5 cups is:\n",
    "1.0 / math.comb(10, 5)"
   ]
  },
  {
   "cell_type": "markdown",
   "id": "94e4e7ac",
   "metadata": {},
   "source": [
    "So if the experiment was done with 10 cups total, 5 with milk in first and 5 with tea in first the chance of selecting randomly is much less than 1%"
   ]
  },
  {
   "cell_type": "markdown",
   "id": "73bdb40c",
   "metadata": {},
   "source": [
    "We could develop the experiment to have 9 cups in total, 4 with milk first and 5 with tea first, or vice versa."
   ]
  },
  {
   "cell_type": "code",
   "execution_count": 6,
   "id": "a8143491",
   "metadata": {},
   "outputs": [
    {
     "data": {
      "text/plain": [
       "126"
      ]
     },
     "execution_count": 6,
     "metadata": {},
     "output_type": "execute_result"
    }
   ],
   "source": [
    "# Num of ways selecting 4 cups from 9\n",
    "math.comb(9, 4)"
   ]
  },
  {
   "cell_type": "code",
   "execution_count": 7,
   "id": "aa4a06f6",
   "metadata": {},
   "outputs": [
    {
     "data": {
      "text/plain": [
       "0.007936507936507936"
      ]
     },
     "execution_count": 7,
     "metadata": {},
     "output_type": "execute_result"
    }
   ],
   "source": [
    "# The Probability is then \n",
    "1.0/math.comb(9, 4)"
   ]
  },
  {
   "cell_type": "markdown",
   "id": "43c766f4",
   "metadata": {},
   "source": [
    "Also less than 1% - round to .8%"
   ]
  },
  {
   "cell_type": "code",
   "execution_count": 8,
   "id": "280d9b88",
   "metadata": {},
   "outputs": [
    {
     "data": {
      "text/plain": [
       "126"
      ]
     },
     "execution_count": 8,
     "metadata": {},
     "output_type": "execute_result"
    }
   ],
   "source": [
    "# Note the number of ways of selecting 5 cups from 9 is also 126\n",
    "math.comb(9, 5)"
   ]
  },
  {
   "cell_type": "markdown",
   "id": "e8eaa64e",
   "metadata": {},
   "source": [
    "##### Use scipy's version of Fishers Exact Test to simulate the Lady Tasting Tea Problem"
   ]
  },
  {
   "cell_type": "markdown",
   "id": "89c84ad7",
   "metadata": {},
   "source": [
    "We know from the investigation above that the number of ways of selecting 4 cups from 8 is 70. \n",
    "Therefore the odds from a random selection the odds of choosing the 4 cups where the milk has been added first is 1/70 or 0.014285714285714285"
   ]
  },
  {
   "cell_type": "code",
   "execution_count": 57,
   "id": "d40d1f51",
   "metadata": {},
   "outputs": [
    {
     "data": {
      "text/plain": [
       "0.014285714285714285"
      ]
     },
     "execution_count": 57,
     "metadata": {},
     "output_type": "execute_result"
    }
   ],
   "source": [
    "# Show 1 divided by 70\n",
    "1/70"
   ]
  },
  {
   "cell_type": "markdown",
   "id": "0b53ab58",
   "metadata": {},
   "source": [
    "Here I am going to create a table to visualise the data - the code here is adapated from: https://towardsdatascience.com/fishers-exact-test-from-scratch-with-python-2b907f29e593"
   ]
  },
  {
   "cell_type": "code",
   "execution_count": 55,
   "id": "f65289c2",
   "metadata": {},
   "outputs": [
    {
     "data": {
      "text/html": [
       "<div>\n",
       "<style scoped>\n",
       "    .dataframe tbody tr th:only-of-type {\n",
       "        vertical-align: middle;\n",
       "    }\n",
       "\n",
       "    .dataframe tbody tr th {\n",
       "        vertical-align: top;\n",
       "    }\n",
       "\n",
       "    .dataframe thead th {\n",
       "        text-align: right;\n",
       "    }\n",
       "</style>\n",
       "<table border=\"1\" class=\"dataframe\">\n",
       "  <thead>\n",
       "    <tr style=\"text-align: right;\">\n",
       "      <th></th>\n",
       "      <th>Milk_Guess</th>\n",
       "      <th>Tea_Guess</th>\n",
       "    </tr>\n",
       "  </thead>\n",
       "  <tbody>\n",
       "    <tr>\n",
       "      <th>Milk_Poured</th>\n",
       "      <td>4</td>\n",
       "      <td>0</td>\n",
       "    </tr>\n",
       "    <tr>\n",
       "      <th>Tea_Poured</th>\n",
       "      <td>0</td>\n",
       "      <td>4</td>\n",
       "    </tr>\n",
       "  </tbody>\n",
       "</table>\n",
       "</div>"
      ],
      "text/plain": [
       "             Milk_Guess  Tea_Guess\n",
       "Milk_Poured           4          0\n",
       "Tea_Poured            0          4"
      ]
     },
     "execution_count": 55,
     "metadata": {},
     "output_type": "execute_result"
    }
   ],
   "source": [
    "#Create Table with Pandas\n",
    "ar=np.array([[4, 0],[0, 4]])    \n",
    "df=pd.DataFrame(ar, columns=[\"Milk_Guess\", \"Tea_Guess\"])\n",
    "df.index=[\"Milk_Poured\", \"Tea_Poured\"] \n",
    "df "
   ]
  },
  {
   "cell_type": "code",
   "execution_count": 56,
   "id": "c76b915d",
   "metadata": {},
   "outputs": [
    {
     "data": {
      "text/html": [
       "<div>\n",
       "<style scoped>\n",
       "    .dataframe tbody tr th:only-of-type {\n",
       "        vertical-align: middle;\n",
       "    }\n",
       "\n",
       "    .dataframe tbody tr th {\n",
       "        vertical-align: top;\n",
       "    }\n",
       "\n",
       "    .dataframe thead th {\n",
       "        text-align: right;\n",
       "    }\n",
       "</style>\n",
       "<table border=\"1\" class=\"dataframe\">\n",
       "  <thead>\n",
       "    <tr style=\"text-align: right;\">\n",
       "      <th></th>\n",
       "      <th>Milk_Guess</th>\n",
       "      <th>Tea_Guess</th>\n",
       "      <th>Row_Total</th>\n",
       "    </tr>\n",
       "  </thead>\n",
       "  <tbody>\n",
       "    <tr>\n",
       "      <th>Milk_Poured</th>\n",
       "      <td>4</td>\n",
       "      <td>0</td>\n",
       "      <td>4</td>\n",
       "    </tr>\n",
       "    <tr>\n",
       "      <th>Tea_Poured</th>\n",
       "      <td>0</td>\n",
       "      <td>4</td>\n",
       "      <td>4</td>\n",
       "    </tr>\n",
       "    <tr>\n",
       "      <th>Column_Total</th>\n",
       "      <td>4</td>\n",
       "      <td>4</td>\n",
       "      <td>8</td>\n",
       "    </tr>\n",
       "  </tbody>\n",
       "</table>\n",
       "</div>"
      ],
      "text/plain": [
       "              Milk_Guess  Tea_Guess  Row_Total\n",
       "Milk_Poured            4          0          4\n",
       "Tea_Poured             0          4          4\n",
       "Column_Total           4          4          8"
      ]
     },
     "execution_count": 56,
     "metadata": {},
     "output_type": "execute_result"
    }
   ],
   "source": [
    "# Add the marginal totals and the grand total\n",
    "df2=df.copy()\n",
    "df2.loc['Column_Total']= df2.sum(numeric_only=True, axis=0)\n",
    "df2.loc[:,'Row_Total'] = df2.sum(numeric_only=True, axis=1)\n",
    "df2"
   ]
  },
  {
   "cell_type": "markdown",
   "id": "402e0bca",
   "metadata": {},
   "source": [
    "First I want to calculate the expected values for each cell in our contingency table. The expected values represent the numbers that should be found in each cell of the table if there’s no association between the two variables “Guess” and “Poured”. For each cell we calculate its expected value by multiplying its respective Row_Total with its respective Column_Total and finally divide by the grand total. In this case that would be **(4/8) * (4/8) * 8** *or* **(4*4) / 8**"
   ]
  },
  {
   "cell_type": "code",
   "execution_count": 67,
   "id": "dbbaa9a5",
   "metadata": {},
   "outputs": [
    {
     "data": {
      "text/plain": [
       "2.0"
      ]
     },
     "execution_count": 67,
     "metadata": {},
     "output_type": "execute_result"
    }
   ],
   "source": [
    "# Calculating Expected value in each cell\n",
    "(4*4) / 8"
   ]
  },
  {
   "cell_type": "markdown",
   "id": "b4370a7b",
   "metadata": {},
   "source": [
    "This test is a little obvious as with 4 choices out of 8 cups the odds at random would be you would get two right and two wrong, but if you used odd numbers or skewed the data by only filling 3 cups with milk first and 5 with tea first you would get floating numbers as your answers"
   ]
  },
  {
   "cell_type": "code",
   "execution_count": 69,
   "id": "da5691cb",
   "metadata": {},
   "outputs": [
    {
     "data": {
      "text/html": [
       "<div>\n",
       "<style scoped>\n",
       "    .dataframe tbody tr th:only-of-type {\n",
       "        vertical-align: middle;\n",
       "    }\n",
       "\n",
       "    .dataframe tbody tr th {\n",
       "        vertical-align: top;\n",
       "    }\n",
       "\n",
       "    .dataframe thead th {\n",
       "        text-align: right;\n",
       "    }\n",
       "</style>\n",
       "<table border=\"1\" class=\"dataframe\">\n",
       "  <thead>\n",
       "    <tr style=\"text-align: right;\">\n",
       "      <th></th>\n",
       "      <th>Milk_Guess</th>\n",
       "      <th>Tea_Guess</th>\n",
       "    </tr>\n",
       "  </thead>\n",
       "  <tbody>\n",
       "    <tr>\n",
       "      <th>Milk_Poured</th>\n",
       "      <td>5</td>\n",
       "      <td>0</td>\n",
       "    </tr>\n",
       "    <tr>\n",
       "      <th>Tea_Poured</th>\n",
       "      <td>0</td>\n",
       "      <td>3</td>\n",
       "    </tr>\n",
       "  </tbody>\n",
       "</table>\n",
       "</div>"
      ],
      "text/plain": [
       "             Milk_Guess  Tea_Guess\n",
       "Milk_Poured           5          0\n",
       "Tea_Poured            0          3"
      ]
     },
     "execution_count": 69,
     "metadata": {},
     "output_type": "execute_result"
    }
   ],
   "source": [
    "#Create Table with Pandas\n",
    "ar=np.array([[5, 0],[0, 3]])    \n",
    "df=pd.DataFrame(ar, columns=[\"Milk_Guess\", \"Tea_Guess\"])\n",
    "df.index=[\"Milk_Poured\", \"Tea_Poured\"] \n",
    "df "
   ]
  },
  {
   "cell_type": "code",
   "execution_count": 70,
   "id": "92b41df9",
   "metadata": {},
   "outputs": [
    {
     "data": {
      "text/html": [
       "<div>\n",
       "<style scoped>\n",
       "    .dataframe tbody tr th:only-of-type {\n",
       "        vertical-align: middle;\n",
       "    }\n",
       "\n",
       "    .dataframe tbody tr th {\n",
       "        vertical-align: top;\n",
       "    }\n",
       "\n",
       "    .dataframe thead th {\n",
       "        text-align: right;\n",
       "    }\n",
       "</style>\n",
       "<table border=\"1\" class=\"dataframe\">\n",
       "  <thead>\n",
       "    <tr style=\"text-align: right;\">\n",
       "      <th></th>\n",
       "      <th>Milk_Guess</th>\n",
       "      <th>Tea_Guess</th>\n",
       "      <th>Row_Total</th>\n",
       "    </tr>\n",
       "  </thead>\n",
       "  <tbody>\n",
       "    <tr>\n",
       "      <th>Milk_Poured</th>\n",
       "      <td>5</td>\n",
       "      <td>0</td>\n",
       "      <td>5</td>\n",
       "    </tr>\n",
       "    <tr>\n",
       "      <th>Tea_Poured</th>\n",
       "      <td>0</td>\n",
       "      <td>3</td>\n",
       "      <td>3</td>\n",
       "    </tr>\n",
       "    <tr>\n",
       "      <th>Column_Total</th>\n",
       "      <td>5</td>\n",
       "      <td>3</td>\n",
       "      <td>8</td>\n",
       "    </tr>\n",
       "  </tbody>\n",
       "</table>\n",
       "</div>"
      ],
      "text/plain": [
       "              Milk_Guess  Tea_Guess  Row_Total\n",
       "Milk_Poured            5          0          5\n",
       "Tea_Poured             0          3          3\n",
       "Column_Total           5          3          8"
      ]
     },
     "execution_count": 70,
     "metadata": {},
     "output_type": "execute_result"
    }
   ],
   "source": [
    "# Add the marginal totals and the grand total\n",
    "df2=df.copy()\n",
    "df2.loc['Column_Total']= df2.sum(numeric_only=True, axis=0)\n",
    "df2.loc[:,'Row_Total'] = df2.sum(numeric_only=True, axis=1)\n",
    "df2"
   ]
  },
  {
   "cell_type": "markdown",
   "id": "2515ecda",
   "metadata": {},
   "source": [
    "Here when we multiply the respective Row_Total with its respective Column_Total and divide by the grand total the formula for the expected outcome for each figure would be (5/8) * (3/8) * 8 or (5*3) / 8"
   ]
  },
  {
   "cell_type": "code",
   "execution_count": 72,
   "id": "704a9f76",
   "metadata": {},
   "outputs": [
    {
     "data": {
      "text/plain": [
       "1.875"
      ]
     },
     "execution_count": 72,
     "metadata": {},
     "output_type": "execute_result"
    }
   ],
   "source": [
    "# Calculating Expected value in each cell\n",
    "(5*3) / 8"
   ]
  },
  {
   "cell_type": "markdown",
   "id": "f8a7e902",
   "metadata": {},
   "source": [
    "So now we have the expected value for each cell (we are going back to the **(4*4) / 8** scenario as that was the original question).\n",
    "We will now try to use the fisher_exact method from scipy.stats to get the value of the chances of 4 random choices picking the all 4 of exact right cups (tea first is the correct way - I dont care what anyone says!!)"
   ]
  },
  {
   "cell_type": "code",
   "execution_count": 73,
   "id": "709fffcf",
   "metadata": {},
   "outputs": [],
   "source": [
    "# Statistical Methods\n",
    "import scipy.stats as ss"
   ]
  },
  {
   "cell_type": "code",
   "execution_count": 74,
   "id": "8d45c2f1",
   "metadata": {},
   "outputs": [
    {
     "data": {
      "text/plain": [
       "<function scipy.stats.stats.fisher_exact(table, alternative='two-sided')>"
      ]
     },
     "execution_count": 74,
     "metadata": {},
     "output_type": "execute_result"
    }
   ],
   "source": [
    "# Run the Fisher_exact method\n",
    "ss.fisher_exact"
   ]
  },
  {
   "cell_type": "code",
   "execution_count": 77,
   "id": "933c41ab",
   "metadata": {},
   "outputs": [],
   "source": [
    "#This is my data\n",
    "data = [[4,0],[0,4]]"
   ]
  },
  {
   "cell_type": "code",
   "execution_count": 76,
   "id": "18cae34e",
   "metadata": {},
   "outputs": [
    {
     "data": {
      "text/plain": [
       "(inf, 0.028571428571428536)"
      ]
     },
     "execution_count": 76,
     "metadata": {},
     "output_type": "execute_result"
    }
   ],
   "source": [
    "# Running the fisher exact method using the data from my original table\n",
    "ss.fisher_exact(data)"
   ]
  },
  {
   "cell_type": "markdown",
   "id": "86737250",
   "metadata": {},
   "source": [
    "So here I was expecting to get the value of 1/70 or 0.014285714285714285 to be exact. However as you can see the figure produced from the code above does not match, however it is suspisiously almost exactly double what I expected (beyond 10 decimal places). So here I went back to the "
   ]
  },
  {
   "cell_type": "code",
   "execution_count": 54,
   "id": "7bfb8976",
   "metadata": {},
   "outputs": [
    {
     "data": {
      "text/plain": [
       "(inf, 0.014285714285714268)"
      ]
     },
     "execution_count": 54,
     "metadata": {},
     "output_type": "execute_result"
    }
   ],
   "source": [
    "ss.fisher_exact([[4,0],[0,4]], alternative='greater')"
   ]
  },
  {
   "cell_type": "code",
   "execution_count": null,
   "id": "93d851a6",
   "metadata": {},
   "outputs": [],
   "source": []
  },
  {
   "cell_type": "code",
   "execution_count": null,
   "id": "31b3bfb7",
   "metadata": {},
   "outputs": [],
   "source": []
  },
  {
   "cell_type": "markdown",
   "id": "7bff127d",
   "metadata": {},
   "source": [
    "#### *Bonus Excercise for 1.1:* How many would be required if you were to let the taster get one cup wrong while maintaining the 1% threshold?"
   ]
  },
  {
   "cell_type": "code",
   "execution_count": null,
   "id": "8f2fe860",
   "metadata": {},
   "outputs": [],
   "source": []
  },
  {
   "cell_type": "code",
   "execution_count": null,
   "id": "b91ca508",
   "metadata": {},
   "outputs": [],
   "source": []
  },
  {
   "cell_type": "code",
   "execution_count": null,
   "id": "35b4f65a",
   "metadata": {},
   "outputs": [],
   "source": []
  },
  {
   "cell_type": "code",
   "execution_count": null,
   "id": "077d8278",
   "metadata": {},
   "outputs": [],
   "source": []
  },
  {
   "cell_type": "code",
   "execution_count": 19,
   "id": "e9bd97b6",
   "metadata": {},
   "outputs": [],
   "source": [
    "import numpy as np\n",
    "import pandas as pd\n",
    "import scipy.special"
   ]
  },
  {
   "cell_type": "code",
   "execution_count": 41,
   "id": "a98e7839",
   "metadata": {},
   "outputs": [
    {
     "data": {
      "text/html": [
       "<div>\n",
       "<style scoped>\n",
       "    .dataframe tbody tr th:only-of-type {\n",
       "        vertical-align: middle;\n",
       "    }\n",
       "\n",
       "    .dataframe tbody tr th {\n",
       "        vertical-align: top;\n",
       "    }\n",
       "\n",
       "    .dataframe thead th {\n",
       "        text-align: right;\n",
       "    }\n",
       "</style>\n",
       "<table border=\"1\" class=\"dataframe\">\n",
       "  <thead>\n",
       "    <tr style=\"text-align: right;\">\n",
       "      <th></th>\n",
       "      <th>Milk_Guess</th>\n",
       "      <th>Tea_Guess</th>\n",
       "    </tr>\n",
       "  </thead>\n",
       "  <tbody>\n",
       "    <tr>\n",
       "      <th>Milk_Poured</th>\n",
       "      <td>4</td>\n",
       "      <td>0</td>\n",
       "    </tr>\n",
       "    <tr>\n",
       "      <th>Tea_Poured</th>\n",
       "      <td>0</td>\n",
       "      <td>4</td>\n",
       "    </tr>\n",
       "  </tbody>\n",
       "</table>\n",
       "</div>"
      ],
      "text/plain": [
       "             Milk_Guess  Tea_Guess\n",
       "Milk_Poured           4          0\n",
       "Tea_Poured            0          4"
      ]
     },
     "execution_count": 41,
     "metadata": {},
     "output_type": "execute_result"
    }
   ],
   "source": [
    "#Create Table with Pandas\n",
    "ar=np.array([[4, 0],[0, 4]])    \n",
    "df=pd.DataFrame(ar, columns=[\"Milk_Guess\", \"Tea_Guess\"])\n",
    "df.index=[\"Milk_Poured\", \"Tea_Poured\"] \n",
    "df "
   ]
  },
  {
   "cell_type": "code",
   "execution_count": 42,
   "id": "efcf80a5",
   "metadata": {},
   "outputs": [
    {
     "data": {
      "text/html": [
       "<div>\n",
       "<style scoped>\n",
       "    .dataframe tbody tr th:only-of-type {\n",
       "        vertical-align: middle;\n",
       "    }\n",
       "\n",
       "    .dataframe tbody tr th {\n",
       "        vertical-align: top;\n",
       "    }\n",
       "\n",
       "    .dataframe thead th {\n",
       "        text-align: right;\n",
       "    }\n",
       "</style>\n",
       "<table border=\"1\" class=\"dataframe\">\n",
       "  <thead>\n",
       "    <tr style=\"text-align: right;\">\n",
       "      <th></th>\n",
       "      <th>Milk_Guess</th>\n",
       "      <th>Tea_Guess</th>\n",
       "      <th>Row_Total</th>\n",
       "    </tr>\n",
       "  </thead>\n",
       "  <tbody>\n",
       "    <tr>\n",
       "      <th>Milk_Poured</th>\n",
       "      <td>4</td>\n",
       "      <td>0</td>\n",
       "      <td>4</td>\n",
       "    </tr>\n",
       "    <tr>\n",
       "      <th>Tea_Poured</th>\n",
       "      <td>0</td>\n",
       "      <td>4</td>\n",
       "      <td>4</td>\n",
       "    </tr>\n",
       "    <tr>\n",
       "      <th>Column_Total</th>\n",
       "      <td>4</td>\n",
       "      <td>4</td>\n",
       "      <td>8</td>\n",
       "    </tr>\n",
       "  </tbody>\n",
       "</table>\n",
       "</div>"
      ],
      "text/plain": [
       "              Milk_Guess  Tea_Guess  Row_Total\n",
       "Milk_Poured            4          0          4\n",
       "Tea_Poured             0          4          4\n",
       "Column_Total           4          4          8"
      ]
     },
     "execution_count": 42,
     "metadata": {},
     "output_type": "execute_result"
    }
   ],
   "source": []
  },
  {
   "cell_type": "code",
   "execution_count": 25,
   "id": "fb5f7d8f",
   "metadata": {},
   "outputs": [
    {
     "data": {
      "text/html": [
       "<div>\n",
       "<style scoped>\n",
       "    .dataframe tbody tr th:only-of-type {\n",
       "        vertical-align: middle;\n",
       "    }\n",
       "\n",
       "    .dataframe tbody tr th {\n",
       "        vertical-align: top;\n",
       "    }\n",
       "\n",
       "    .dataframe thead th {\n",
       "        text-align: right;\n",
       "    }\n",
       "</style>\n",
       "<table border=\"1\" class=\"dataframe\">\n",
       "  <thead>\n",
       "    <tr style=\"text-align: right;\">\n",
       "      <th></th>\n",
       "      <th>Milk_First</th>\n",
       "      <th>Tea_First</th>\n",
       "      <th>Row_Total</th>\n",
       "    </tr>\n",
       "  </thead>\n",
       "  <tbody>\n",
       "    <tr>\n",
       "      <th>Milk_Choice</th>\n",
       "      <td>2</td>\n",
       "      <td>2</td>\n",
       "      <td>4</td>\n",
       "    </tr>\n",
       "    <tr>\n",
       "      <th>Tea_Choice</th>\n",
       "      <td>2</td>\n",
       "      <td>2</td>\n",
       "      <td>4</td>\n",
       "    </tr>\n",
       "    <tr>\n",
       "      <th>Column_Total</th>\n",
       "      <td>4</td>\n",
       "      <td>4</td>\n",
       "      <td>8</td>\n",
       "    </tr>\n",
       "  </tbody>\n",
       "</table>\n",
       "</div>"
      ],
      "text/plain": [
       "              Milk_First  Tea_First  Row_Total\n",
       "Milk_Choice            2          2          4\n",
       "Tea_Choice             2          2          4\n",
       "Column_Total           4          4          8"
      ]
     },
     "execution_count": 25,
     "metadata": {},
     "output_type": "execute_result"
    }
   ],
   "source": [
    "n=df2.at[\"Column_Total\", \"Row_Total\"]  # grand total \n",
    "\n",
    "exp=df2.copy()               # create dataframe with expected frequencies\n",
    "for x in exp.index[0:-1]:\n",
    "    for y in exp.columns[0:-1]:\n",
    "        # round expected values to nearest hundredths:\n",
    "        v= (((df2.at[x, \"Row_Total\"]) * (df2.at[\"Column_Total\", y])   )   /n ).round(2) \n",
    "        exp.at[x,y]=float(v)\n",
    "\n",
    "exp"
   ]
  },
  {
   "cell_type": "code",
   "execution_count": 26,
   "id": "c4b5f753",
   "metadata": {},
   "outputs": [
    {
     "data": {
      "text/plain": [
       "0.22857142857142856"
      ]
     },
     "execution_count": 26,
     "metadata": {},
     "output_type": "execute_result"
    }
   ],
   "source": [
    "def p(a): \n",
    "    v=(scipy.special.binom(int(df2.iloc[0,2]), a) * scipy.special.binom(int(df2.iloc[1,2]), (int(df2.iloc[2,0])-a)) )/scipy.special.binom(n, int(df2.iloc[2,0]))\n",
    "    return v\n",
    "\n",
    "p(1) # if we try \"a=1\" we get the following probability ... "
   ]
  },
  {
   "cell_type": "code",
   "execution_count": 27,
   "id": "4c304901",
   "metadata": {},
   "outputs": [
    {
     "data": {
      "text/plain": [
       "0.0"
      ]
     },
     "execution_count": 27,
     "metadata": {},
     "output_type": "execute_result"
    }
   ],
   "source": [
    "p_observed=p(7) # In our contingency table, a was equal to 7.\n",
    "\n",
    "p_list=[]\n",
    "for i in range(int(df2.iloc[0,2])  + 1  ): # calculate p(a) for every possible table we can get given the fixed margins...\n",
    "#... this ranges from \"9 choose 0\" to \"9 choose 9\" so we should get 10 possible tables and their respective probabilities..\n",
    "    if p(i)<=p_observed:\n",
    "        p_list.append(p(i))     # append these probabilites to p_list only if <= p_observed\n",
    "        \n",
    "p_val=np.sum(p_list) # the sum of this list corresponds to the p-value \n",
    "p_val "
   ]
  },
  {
   "cell_type": "code",
   "execution_count": null,
   "id": "10dde3c2",
   "metadata": {},
   "outputs": [],
   "source": []
  }
 ],
 "metadata": {
  "kernelspec": {
   "display_name": "Python 3 (ipykernel)",
   "language": "python",
   "name": "python3"
  },
  "language_info": {
   "codemirror_mode": {
    "name": "ipython",
    "version": 3
   },
   "file_extension": ".py",
   "mimetype": "text/x-python",
   "name": "python",
   "nbconvert_exporter": "python",
   "pygments_lexer": "ipython3",
   "version": "3.9.12"
  }
 },
 "nbformat": 4,
 "nbformat_minor": 5
}
