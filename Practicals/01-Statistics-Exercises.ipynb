{
 "cells": [
  {
   "cell_type": "markdown",
   "id": "ac8f5999",
   "metadata": {
    "tags": []
   },
   "source": [
    "\n",
    "<h1 style = \"color: # 001a79;\">Statistics Notebook</h1>\n",
    "\n",
    "<hr style = \"border-top: 1px solid #001a79;\" />"
   ]
  },
  {
   "cell_type": "markdown",
   "id": "4150fd4e-5392-40f7-a904-b263bb614fda",
   "metadata": {},
   "source": [
    "##### Introduction to the Notebook\n",
    "In this notebook we will look at different methods of statistcal learning and some methods and hypothesis used in statistical testing.  \n",
    "The intenton of this notebook is is to concentrate more on the applications of statistical methods (the why and how) and less on the mathematical details. Although of couse the two do come hand in hand in some cases I will be attempting to show when and why a certain method has been used rather than the mathimathical reasoning of how the method works. Luckily as I am using pythton in this notebook it has numerous libraries (most notably scipy and statsmodels) that have many of these methods built in - so the trick is really to know when they are valuable, how they work is important, but not neccessarily required. \n",
    "\n",
    "##### Introdution to Stats\n",
    "Statistical learning refers to a vast set of tools for understanding data.[[1]](https://hastie.su.domains/ISLR2/ISLRv2_website.pdf)  \n",
    "Statistics itself, is the science of collecting, analyzing, presenting, and interpreting data. Historically statistics were used often by governments to gain insights onto economic activities, census information being the main sources of the data. However over the last century the growth of data colletion has grown exponentially with a huge explosion of the volume of data being collected over the past 30 years due to advances in computing, both in industry and everyday life. The value of the data available is now being recognised and the need to turn the large amounts of data available in many applied fields into useful information has stimulated both theoretical and practical developments in statistics. [[2]](https://www.britannica.com/science/statistics)\n",
    "\n",
    "##### What is the difference between data and statistics?\n",
    "Statistics and Data are two terms which are going to be used throughout this notebook so I belive it is important for anybody reading this to understand what I mean when I use those terms.  \n",
    "While the terms ‘data’ and ‘statistics’ are often used interchangeably, there is an important distinction between them.  \n",
    "Data are individual pieces of factual information recorded and used for the purpose of analysis. Data is the raw information from which statistics are created.   Statistics are the results of data analysis - its interpretation and presentation. In other words some computation has taken place that provides some understanding of what the data means. Statistics are often, though they don’t have to be, presented in the form of a table, chart, or graph. [[3]](https://libguides.macalester.edu/c.php?g=527786&p=3608657)\n"
   ]
  },
  {
   "cell_type": "markdown",
   "id": "73a09aa8-84d5-44ec-817d-2c99251fce41",
   "metadata": {},
   "source": [
    "#### Importing Libaries\n",
    "\n",
    "Before I go any further I am going to begin importing the libraries I intend to use in this notebook - this will begin with some of the libraries I know I will be using such as Math, Numpy, Pandas, Scipy, Statmodels and of course matplotlib, it will most likey grow as the notebook develops."
   ]
  },
  {
   "cell_type": "code",
   "execution_count": 1,
   "id": "31552a7d-bf93-4b2c-8f51-c829447bdad6",
   "metadata": {},
   "outputs": [],
   "source": [
    "# Math Module\n",
    "import math\n",
    "\n",
    "# Numpy\n",
    "import numpy as np\n",
    "\n",
    "# Pandas\n",
    "import pandas as pd\n",
    "\n",
    "# Seaborn\n",
    "import seaborn as sns\n",
    "\n",
    "# Statistical Methods\n",
    "import scipy.stats as ss\n",
    "\n",
    "# Alt Stats package\n",
    "import statsmodels.stats.weightstats as stat\n",
    "\n",
    "# plotting\n",
    "import matplotlib.pyplot as plt\n",
    "\n",
    "import itertools\n",
    "\n"
   ]
  },
  {
   "cell_type": "markdown",
   "id": "8b7bae00-44cc-4935-895b-8308681f2fe5",
   "metadata": {
    "tags": []
   },
   "source": [
    "### An introduction to an example of statistical problem solving\n",
    "##### Lady Tasting Tea Problem"
   ]
  },
  {
   "cell_type": "markdown",
   "id": "2506c957-7753-442f-9577-a8fd43dd2860",
   "metadata": {},
   "source": [
    "<img src=\"\\Images\\TeaPot.jpg\" style=\"margin:auto\"/>"
   ]
  },
  {
   "cell_type": "markdown",
   "id": "9ee12734-3a16-4ca7-b2e6-a325d3c8b741",
   "metadata": {
    "jp-MarkdownHeadingCollapsed": true,
    "tags": []
   },
   "source": [
    "The Lady Tasting Tea problem was first described by Ronald A. Fisher in his book *The Design of Experiments*.  \n",
    "**A little background on Fisher:** Fisher was a British polymath who was active as a mathematician, statistician, biologist, geneticist, and academic. For his work in statistics, he has been described as \"a genius who almost single-handedly created the foundations for modern statistical science\"[[4]](https://en.wikipedia.org/wiki/Ronald_Fisher#cite_note-Hald98-7) and \"the single most important figure in 20th century statistics\".[[5]](https://en.wikipedia.org/wiki/Ronald_Fisher#cite_note-8)\n",
    "Fisher is seen by many as one of the founders of modern day data analytics and is also responsible for one of the most famous datasets used in machine learning called the Iris Dataset. \n",
    "Although Fisher is seen as somewhat of a *god* in the field of data analytics and statistics, according to some sources his views on eugenics and race are disputed - todays society may not have been as kind to his genius, but his questionable ethical morals(to say the least) are not for debate in this notebook, but I feel it is worth mentioning.  \n",
    "\n",
    "So back to a less contentious (but still worthy) debate - how to make a cup of tea.  \n",
    "He described the problem as follows.\n",
    "\n",
    "*\"A lady declares that by tasting a cup of tea made with milk she can discriminate whether the milk or the tea infusion was first added to the cup: We will consider the problem of designing an experiment by means of which this assertion can be tested. For this purpose let us first lay down a simple form of experiment with a view to studying its limitations and its characteristics, both those which appear to be essential to the experimental method, when well developed, and those which are not essential but auxiliary.*\n",
    "\n",
    "*Our experiment consists in mixing eight cups of tea, four in one way and four in the other, and presenting them to the subject for judgment in a random order. The subject has been told in advance of what the test will consist, namely that she will be asked to taste eight cups, that these shall be four of each kind, and that they shall be presented to her in a random order, that is in an order not determined arbitrarily by human choice, but by the actual manipulation of the physical apparatus used in games of chance, cards, dice, roulettes, etc., or, more expeditiously, from a published collection of random sampling numbers purporting to give the actual results of such manipulation. Her task is to divide the 8 cups into two sets of 4, agreeing, if possible, with the treatments received.\"*"
   ]
  },
  {
   "cell_type": "markdown",
   "id": "f244000e-4429-4761-98d5-1a764af5f74e",
   "metadata": {},
   "source": [
    "<img src=\"Images\\Ronald_Fisher.jpeg\" style=\"margin:auto\"/>"
   ]
  },
  {
   "cell_type": "markdown",
   "id": "abd8c0e5-5428-4897-82d7-5dc4d79612e5",
   "metadata": {},
   "source": [
    "###### <center>  Sir Ronald Aylmer Fisher (Photo from Rare Books & Special Collections, University of Adelaide)"
   ]
  },
  {
   "cell_type": "markdown",
   "id": "f2041017-a5ad-4065-97fa-eb13dd9bf8bb",
   "metadata": {},
   "source": [
    "## Number of Combinations"
   ]
  },
  {
   "cell_type": "markdown",
   "id": "a19fc868-550d-4651-a4b8-b7347f90ea77",
   "metadata": {},
   "source": [
    "Let us investigate the number of ways in which the lady can arrange the eight cups into two groups of four.\n",
    "\n",
    "The first group is the cups with milk first.\n",
    "\n",
    "The second group is the cups with tea first.\n",
    "\n",
    "Once we select four cups for the first group, the second group is made up of the remaining cups.\n",
    "\n",
    "So, we only really need to count how many different ways there are to select four cups from eight.\n",
    "\n",
    "\n",
    "To begin we give each of the eight cups a label from 0 to 7.\n",
    "\n",
    "Note that the cups have no order in the experiment, we are labelling them with integers simply for convenience."
   ]
  },
  {
   "cell_type": "code",
   "execution_count": 2,
   "id": "b6a91ac3-d6d1-4c89-b425-933dbf4bd511",
   "metadata": {},
   "outputs": [
    {
     "data": {
      "text/plain": [
       "[0, 1, 2, 3, 4, 5, 6, 7]"
      ]
     },
     "execution_count": 2,
     "metadata": {},
     "output_type": "execute_result"
    }
   ],
   "source": [
    "# The eight cups.\n",
    "cups = list(range(8))\n",
    "cups"
   ]
  },
  {
   "cell_type": "markdown",
   "id": "ccab212d-e644-4a78-887d-c99d779f8972",
   "metadata": {},
   "source": [
    "Suppose the subject is trying to pick the four cups with milk in first.\n",
    "\n",
    "If the subject is picking the cups randomly then they are randomly picking one of seventy different options.\n",
    "\n",
    "By randomly, we mean that they can not really tell which cups have the milk in first.\n",
    "\n",
    "Therefore they have only a probability of 1/70 of getting the right answer.\n",
    "\n",
    "The number of ways of selecting four **unordered** items from eight is given by the Choose function in mathematics.  \n",
    "**Unordered** is important here.\n",
    "For example if we have 8 numbers: 1,2,3,4,5,6,7,8  \n",
    "In an **unordered** selection 1,2,3,4 is the same choice as 4,3,2,1.  \n",
    "In an **orderd** selection 1,2,3,4 and 4,3,2,1 are 2 separate choices.   "
   ]
  },
  {
   "cell_type": "code",
   "execution_count": 3,
   "id": "82b78a42-8de0-4118-96af-0f8e8c423b3b",
   "metadata": {},
   "outputs": [
    {
     "data": {
      "text/plain": [
       "70.0"
      ]
     },
     "execution_count": 3,
     "metadata": {},
     "output_type": "execute_result"
    }
   ],
   "source": [
    "# This is the number of ways of selecting 4 objects from 8 (UNORDERED)\n",
    "(8*7*6*5)/(4*3*2*1)"
   ]
  },
  {
   "cell_type": "markdown",
   "id": "da10a490-61b3-4a34-9d7a-49d6b0ef9dda",
   "metadata": {},
   "source": [
    "These possibilities can be enumerated using the combinations function from the itertools Python package.\n",
    "\n",
    "It takes a list ***l*** of items and a number ***n***. It returns/generates each way of selecting ***n*** unordered items from ***l***."
   ]
  },
  {
   "cell_type": "code",
   "execution_count": 4,
   "id": "6c07fe6e-3019-49f0-83bd-e4e613159c92",
   "metadata": {},
   "outputs": [
    {
     "data": {
      "text/plain": [
       "[(0, 1, 2, 3),\n",
       " (0, 1, 2, 4),\n",
       " (0, 1, 2, 5),\n",
       " (0, 1, 2, 6),\n",
       " (0, 1, 2, 7),\n",
       " (0, 1, 3, 4),\n",
       " (0, 1, 3, 5),\n",
       " (0, 1, 3, 6),\n",
       " (0, 1, 3, 7),\n",
       " (0, 1, 4, 5),\n",
       " (0, 1, 4, 6),\n",
       " (0, 1, 4, 7),\n",
       " (0, 1, 5, 6),\n",
       " (0, 1, 5, 7),\n",
       " (0, 1, 6, 7),\n",
       " (0, 2, 3, 4),\n",
       " (0, 2, 3, 5),\n",
       " (0, 2, 3, 6),\n",
       " (0, 2, 3, 7),\n",
       " (0, 2, 4, 5),\n",
       " (0, 2, 4, 6),\n",
       " (0, 2, 4, 7),\n",
       " (0, 2, 5, 6),\n",
       " (0, 2, 5, 7),\n",
       " (0, 2, 6, 7),\n",
       " (0, 3, 4, 5),\n",
       " (0, 3, 4, 6),\n",
       " (0, 3, 4, 7),\n",
       " (0, 3, 5, 6),\n",
       " (0, 3, 5, 7),\n",
       " (0, 3, 6, 7),\n",
       " (0, 4, 5, 6),\n",
       " (0, 4, 5, 7),\n",
       " (0, 4, 6, 7),\n",
       " (0, 5, 6, 7),\n",
       " (1, 2, 3, 4),\n",
       " (1, 2, 3, 5),\n",
       " (1, 2, 3, 6),\n",
       " (1, 2, 3, 7),\n",
       " (1, 2, 4, 5),\n",
       " (1, 2, 4, 6),\n",
       " (1, 2, 4, 7),\n",
       " (1, 2, 5, 6),\n",
       " (1, 2, 5, 7),\n",
       " (1, 2, 6, 7),\n",
       " (1, 3, 4, 5),\n",
       " (1, 3, 4, 6),\n",
       " (1, 3, 4, 7),\n",
       " (1, 3, 5, 6),\n",
       " (1, 3, 5, 7),\n",
       " (1, 3, 6, 7),\n",
       " (1, 4, 5, 6),\n",
       " (1, 4, 5, 7),\n",
       " (1, 4, 6, 7),\n",
       " (1, 5, 6, 7),\n",
       " (2, 3, 4, 5),\n",
       " (2, 3, 4, 6),\n",
       " (2, 3, 4, 7),\n",
       " (2, 3, 5, 6),\n",
       " (2, 3, 5, 7),\n",
       " (2, 3, 6, 7),\n",
       " (2, 4, 5, 6),\n",
       " (2, 4, 5, 7),\n",
       " (2, 4, 6, 7),\n",
       " (2, 5, 6, 7),\n",
       " (3, 4, 5, 6),\n",
       " (3, 4, 5, 7),\n",
       " (3, 4, 6, 7),\n",
       " (3, 5, 6, 7),\n",
       " (4, 5, 6, 7)]"
      ]
     },
     "execution_count": 4,
     "metadata": {},
     "output_type": "execute_result"
    }
   ],
   "source": [
    "poss = list(itertools.combinations(cups, 4))\n",
    "poss"
   ]
  },
  {
   "cell_type": "markdown",
   "id": "e328412c-dcd2-49b4-a8cc-7c5af125e21a",
   "metadata": {},
   "source": [
    "Above any combination of the first iteration the list 0,1,2,3 is not found anywhere else on the list.  \n",
    "Eg. 0,1,2,3, and 1,0,2,3 and 3,0,2,1 and all other combinations of those 4 numbers are considerd the same choice."
   ]
  },
  {
   "cell_type": "markdown",
   "id": "3362d116-243d-425d-983f-e8e27b2fe2e2",
   "metadata": {
    "tags": []
   },
   "source": [
    "### Hypotheses"
   ]
  },
  {
   "cell_type": "markdown",
   "id": "b13bf81c-7261-4dd5-9154-167dc4f6142d",
   "metadata": {},
   "source": [
    "In his book, Fisher describes the *null hypothesis*.  \n",
    "It is the statement to be countered by the experiment.  \n",
    "In this case it is the hypothesis that the subject cannot tell the difference between a cup of tea that had milk in it first and one that had the tea in it first.\n",
    "\n",
    "**Null Hypothesis:** The subject can not tell if the cup had milk in it first or last.\n",
    "\n",
    "\n",
    "Once we collect the experimental data we evaluate how likely we were to see such data if the null hypothesis is true.  \n",
    "If it is very unlikely, then we may reject the null hypothesis.  \n",
    "Typically we have an alternative hypothesis that we suggest rejecting the null hypothesis is evidence for.\n",
    "\n",
    "**Alternative Hypothesis:** The subject can tell.\n",
    "\n",
    "Should the subject pick the correct four cups with milk in them first, there is only a 1 in 70 (~1.4%) chance of them having done that if they were simply guessing.  \n",
    "Fisher considered that unlikely enough to reject the null hypothesis if they manage it."
   ]
  },
  {
   "cell_type": "code",
   "execution_count": 5,
   "id": "7d4aa994-1408-441e-9ab8-b2bbbb2058bc",
   "metadata": {},
   "outputs": [
    {
     "data": {
      "text/plain": [
       "0.014285714285714285"
      ]
     },
     "execution_count": 5,
     "metadata": {},
     "output_type": "execute_result"
    }
   ],
   "source": [
    "# Only one of the 70 randomly selected possibilities is the desired result.\n",
    "1.0 / 70.0"
   ]
  },
  {
   "cell_type": "markdown",
   "id": "570daed2-d009-47a3-ac61-578d992555fd",
   "metadata": {},
   "source": [
    "# Exercise 1\n",
    "<hr style = \"border-top: 1px solid #001a79;\" />\n",
    "\n",
    "The above investigation shows about a 1.4% chance of randomly selecting the correct cups. Calculate the minimum number of cups of tea required to ensure the probability of randomly selecting the correct cups is less than or equal to 1%."
   ]
  },
  {
   "cell_type": "markdown",
   "id": "036289dd",
   "metadata": {},
   "source": [
    "This code is adapted from https://stackoverflow.com/a/4941932/17170567"
   ]
  },
  {
   "cell_type": "markdown",
   "id": "22bf95a4-bdeb-4435-9e2a-d38df062bfea",
   "metadata": {},
   "source": [
    "##### Prove out the original Tea test\n",
    "<hr style = \"border-top: 1px solid #001a79;\" />\n",
    "\n",
    "Below I am going to check the math module checks to see that the comb function will return the same number of combinations from itertools that I had used above - expected resut is 70."
   ]
  },
  {
   "cell_type": "code",
   "execution_count": 6,
   "id": "8725f3d3",
   "metadata": {},
   "outputs": [
    {
     "data": {
      "text/plain": [
       "70"
      ]
     },
     "execution_count": 6,
     "metadata": {},
     "output_type": "execute_result"
    }
   ],
   "source": [
    "#Number of ways of selecting 4 cups from 8\n",
    "math.comb(8,4)"
   ]
  },
  {
   "cell_type": "markdown",
   "id": "aa3581b2-5620-4ab3-a152-444313bde0d1",
   "metadata": {},
   "source": [
    "So now I know that I got the result I expeted I can prove that randomly choosing the correct combination has just over a 1.4% chance of occurence."
   ]
  },
  {
   "cell_type": "code",
   "execution_count": 7,
   "id": "43d06b90-44f3-40fa-85c6-c833295f8d50",
   "metadata": {},
   "outputs": [
    {
     "data": {
      "text/plain": [
       "1.4285714285714286"
      ]
     },
     "execution_count": 7,
     "metadata": {},
     "output_type": "execute_result"
    }
   ],
   "source": [
    "# Proof\n",
    "(1.0 / math.comb(8, 4))*100"
   ]
  },
  {
   "cell_type": "markdown",
   "id": "52ae5f98-499e-4170-a9cf-6876cd3aea5a",
   "metadata": {},
   "source": [
    "##### Increase to 10 cups\n",
    "<hr style = \"border-top: 1px solid #001a79;\" />\n",
    "\n",
    "So now I am going to increase the number of cups to 10, as the more cups there are the more choices there are, which in turn will decrease the odds of the single correct choice occuring during a random selection."
   ]
  },
  {
   "cell_type": "code",
   "execution_count": 8,
   "id": "fcc21e20",
   "metadata": {},
   "outputs": [
    {
     "data": {
      "text/plain": [
       "252"
      ]
     },
     "execution_count": 8,
     "metadata": {},
     "output_type": "execute_result"
    }
   ],
   "source": [
    "#Number of ways of selecting 5 cups from 10\n",
    "math.comb(10,5)"
   ]
  },
  {
   "cell_type": "markdown",
   "id": "2afa651b-2025-4f04-bc97-6196e6c593d9",
   "metadata": {},
   "source": [
    "Here we see when we introduce 10 cups and require 5 are made with tea bag first and 5 with milk first, there are 252 combinations, far greater than the 70 combinations previously. This will greatly decrease the chance of the random selection being correct. Lets see."
   ]
  },
  {
   "cell_type": "code",
   "execution_count": 9,
   "id": "d17ca6ce",
   "metadata": {},
   "outputs": [
    {
     "data": {
      "text/plain": [
       "0.3968253968253968"
      ]
     },
     "execution_count": 9,
     "metadata": {},
     "output_type": "execute_result"
    }
   ],
   "source": [
    "#Probability of randomly selecting correct 5 cups is:\n",
    "(1.0 / math.comb(10, 5))*100"
   ]
  },
  {
   "cell_type": "markdown",
   "id": "75b3bee3",
   "metadata": {},
   "source": [
    "So if the experiment was done with 10 cups total, 5 with milk in first and 5 with tea in first the chance of selecting randomly is much less than 1% - it is actully just under 0.4% - It is possible that this is the correct answer."
   ]
  },
  {
   "cell_type": "markdown",
   "id": "fba9a468",
   "metadata": {},
   "source": [
    "##### Decrease to 9 cups\n",
    "<hr style = \"border-top: 1px solid #001a79;\" />\n",
    "\n",
    "The question is to find the **minimum** number of cups where the threshold is <= 1% so to I will now split the difference and develop the experiment to have 9 cups in total, 4 with milk first and 5 with tea first, or vice versa."
   ]
  },
  {
   "cell_type": "code",
   "execution_count": 10,
   "id": "9e395f41",
   "metadata": {},
   "outputs": [
    {
     "data": {
      "text/plain": [
       "126"
      ]
     },
     "execution_count": 10,
     "metadata": {},
     "output_type": "execute_result"
    }
   ],
   "source": [
    "# Num of ways selecting 4 cups from 9\n",
    "math.comb(9, 4)"
   ]
  },
  {
   "cell_type": "code",
   "execution_count": 11,
   "id": "52ee3144",
   "metadata": {},
   "outputs": [
    {
     "data": {
      "text/plain": [
       "0.7936507936507936"
      ]
     },
     "execution_count": 11,
     "metadata": {},
     "output_type": "execute_result"
    }
   ],
   "source": [
    "# The Probability is then \n",
    "(1.0/math.comb(9, 4))*100"
   ]
  },
  {
   "cell_type": "markdown",
   "id": "3e2f4e30",
   "metadata": {},
   "source": [
    "Also less than 1% - round to .8%"
   ]
  },
  {
   "cell_type": "code",
   "execution_count": 12,
   "id": "3b6708d8",
   "metadata": {},
   "outputs": [
    {
     "data": {
      "text/plain": [
       "0.7936507936507936"
      ]
     },
     "execution_count": 12,
     "metadata": {},
     "output_type": "execute_result"
    }
   ],
   "source": [
    "# Note the number of ways of selecting 5 cups from 9 is also 126\n",
    "# Proof\n",
    "(1.0/math.comb(9, 5))*100"
   ]
  },
  {
   "cell_type": "markdown",
   "id": "e8e48e5c-14e9-4c00-937a-8509c929e3da",
   "metadata": {},
   "source": [
    "##### The Correct Solution\n",
    "<hr style = \"border-top: 1px solid #001a79;\" />\n",
    "\n",
    "So of the 3 tests that I ran:  \n",
    "- 8 cups, choose 4, the chance of randomly chosing the correct selection is **1.42%**.  \n",
    "- 10 cups, choose 5, the chance of randomly chosing the correct selection is **0.39%**.   \n",
    "- 9 cups, choose 4 or 5, the chance of randomly chosing the correct selection is **0.79%**.  \n",
    "\n",
    "So we can definitively say that 9 cups is the minimum number of cups required so the chance of randomly making the correct selection is <=1%.  \n",
    " "
   ]
  },
  {
   "cell_type": "markdown",
   "id": "0fc40e56",
   "metadata": {},
   "source": [
    "# Exercise 2\n",
    "<hr style = \"border-top: 1px solid #001a79;\" />\n",
    "\n",
    "##### Use scipy's version of Fishers Exact Test to simulate the Lady Tasting Tea Problem"
   ]
  },
  {
   "cell_type": "markdown",
   "id": "f40805d0",
   "metadata": {},
   "source": [
    "We know from the investigation above that the number of ways of selecting 4 cups from 8 is 70. \n",
    "Therefore the odds from a random selection the odds of choosing the 4 cups where the milk has been added first is 1/70 or 0.014285714285714285"
   ]
  },
  {
   "cell_type": "code",
   "execution_count": 13,
   "id": "adf0f1a3",
   "metadata": {},
   "outputs": [
    {
     "data": {
      "text/plain": [
       "0.014285714285714285"
      ]
     },
     "execution_count": 13,
     "metadata": {},
     "output_type": "execute_result"
    }
   ],
   "source": [
    "# Show 1 divided by 70\n",
    "1/70"
   ]
  },
  {
   "cell_type": "markdown",
   "id": "68749adb",
   "metadata": {},
   "source": [
    "Here I am going to create a table to visualise the data - the code here is adapated from: https://towardsdatascience.com/fishers-exact-test-from-scratch-with-python-2b907f29e593"
   ]
  },
  {
   "cell_type": "code",
   "execution_count": 14,
   "id": "01e44f88",
   "metadata": {},
   "outputs": [
    {
     "data": {
      "text/html": [
       "<div>\n",
       "<style scoped>\n",
       "    .dataframe tbody tr th:only-of-type {\n",
       "        vertical-align: middle;\n",
       "    }\n",
       "\n",
       "    .dataframe tbody tr th {\n",
       "        vertical-align: top;\n",
       "    }\n",
       "\n",
       "    .dataframe thead th {\n",
       "        text-align: right;\n",
       "    }\n",
       "</style>\n",
       "<table border=\"1\" class=\"dataframe\">\n",
       "  <thead>\n",
       "    <tr style=\"text-align: right;\">\n",
       "      <th></th>\n",
       "      <th>Milk_Guess</th>\n",
       "      <th>Tea_Guess</th>\n",
       "    </tr>\n",
       "  </thead>\n",
       "  <tbody>\n",
       "    <tr>\n",
       "      <th>Milk_Poured</th>\n",
       "      <td>4</td>\n",
       "      <td>0</td>\n",
       "    </tr>\n",
       "    <tr>\n",
       "      <th>Tea_Poured</th>\n",
       "      <td>0</td>\n",
       "      <td>4</td>\n",
       "    </tr>\n",
       "  </tbody>\n",
       "</table>\n",
       "</div>"
      ],
      "text/plain": [
       "             Milk_Guess  Tea_Guess\n",
       "Milk_Poured           4          0\n",
       "Tea_Poured            0          4"
      ]
     },
     "execution_count": 14,
     "metadata": {},
     "output_type": "execute_result"
    }
   ],
   "source": [
    "#Create Table with Pandas\n",
    "ar=np.array([[4, 0],[0, 4]])    \n",
    "df=pd.DataFrame(ar, columns=[\"Milk_Guess\", \"Tea_Guess\"])\n",
    "df.index=[\"Milk_Poured\", \"Tea_Poured\"] \n",
    "df "
   ]
  },
  {
   "cell_type": "code",
   "execution_count": 15,
   "id": "a9aaef30",
   "metadata": {},
   "outputs": [
    {
     "data": {
      "text/html": [
       "<div>\n",
       "<style scoped>\n",
       "    .dataframe tbody tr th:only-of-type {\n",
       "        vertical-align: middle;\n",
       "    }\n",
       "\n",
       "    .dataframe tbody tr th {\n",
       "        vertical-align: top;\n",
       "    }\n",
       "\n",
       "    .dataframe thead th {\n",
       "        text-align: right;\n",
       "    }\n",
       "</style>\n",
       "<table border=\"1\" class=\"dataframe\">\n",
       "  <thead>\n",
       "    <tr style=\"text-align: right;\">\n",
       "      <th></th>\n",
       "      <th>Milk_Guess</th>\n",
       "      <th>Tea_Guess</th>\n",
       "      <th>Row_Total</th>\n",
       "    </tr>\n",
       "  </thead>\n",
       "  <tbody>\n",
       "    <tr>\n",
       "      <th>Milk_Poured</th>\n",
       "      <td>4</td>\n",
       "      <td>0</td>\n",
       "      <td>4</td>\n",
       "    </tr>\n",
       "    <tr>\n",
       "      <th>Tea_Poured</th>\n",
       "      <td>0</td>\n",
       "      <td>4</td>\n",
       "      <td>4</td>\n",
       "    </tr>\n",
       "    <tr>\n",
       "      <th>Column_Total</th>\n",
       "      <td>4</td>\n",
       "      <td>4</td>\n",
       "      <td>8</td>\n",
       "    </tr>\n",
       "  </tbody>\n",
       "</table>\n",
       "</div>"
      ],
      "text/plain": [
       "              Milk_Guess  Tea_Guess  Row_Total\n",
       "Milk_Poured            4          0          4\n",
       "Tea_Poured             0          4          4\n",
       "Column_Total           4          4          8"
      ]
     },
     "execution_count": 15,
     "metadata": {},
     "output_type": "execute_result"
    }
   ],
   "source": [
    "# Add the marginal totals and the grand total\n",
    "df2=df.copy()\n",
    "df2.loc['Column_Total']= df2.sum(numeric_only=True, axis=0)\n",
    "df2.loc[:,'Row_Total'] = df2.sum(numeric_only=True, axis=1)\n",
    "df2"
   ]
  },
  {
   "cell_type": "markdown",
   "id": "9655531f",
   "metadata": {},
   "source": [
    "First I want to calculate the expected values for each cell in our contingency table. The expected values represent the numbers that should be found in each cell of the table if there’s no association between the two variables “Guess” and “Poured”. For each cell we calculate its expected value by multiplying its respective Row_Total with its respective Column_Total and finally divide by the grand total. In this case that would be **(4/8) * (4/8) * 8** *or* **(4*4) / 8**"
   ]
  },
  {
   "cell_type": "code",
   "execution_count": 16,
   "id": "9947907a",
   "metadata": {},
   "outputs": [
    {
     "data": {
      "text/plain": [
       "2.0"
      ]
     },
     "execution_count": 16,
     "metadata": {},
     "output_type": "execute_result"
    }
   ],
   "source": [
    "# Calculating Expected value in each cell\n",
    "(4*4) / 8"
   ]
  },
  {
   "cell_type": "markdown",
   "id": "b146c75c",
   "metadata": {},
   "source": [
    "This test is a little obvious as with 4 choices out of 8 cups the odds at random would be you would get two right and two wrong, but if you used odd numbers or skewed the data by only filling 3 cups with milk first and 5 with tea first you would get floating numbers as your answers"
   ]
  },
  {
   "cell_type": "code",
   "execution_count": 17,
   "id": "f8a2e043",
   "metadata": {},
   "outputs": [
    {
     "data": {
      "text/html": [
       "<div>\n",
       "<style scoped>\n",
       "    .dataframe tbody tr th:only-of-type {\n",
       "        vertical-align: middle;\n",
       "    }\n",
       "\n",
       "    .dataframe tbody tr th {\n",
       "        vertical-align: top;\n",
       "    }\n",
       "\n",
       "    .dataframe thead th {\n",
       "        text-align: right;\n",
       "    }\n",
       "</style>\n",
       "<table border=\"1\" class=\"dataframe\">\n",
       "  <thead>\n",
       "    <tr style=\"text-align: right;\">\n",
       "      <th></th>\n",
       "      <th>Milk_Guess</th>\n",
       "      <th>Tea_Guess</th>\n",
       "    </tr>\n",
       "  </thead>\n",
       "  <tbody>\n",
       "    <tr>\n",
       "      <th>Milk_Poured</th>\n",
       "      <td>5</td>\n",
       "      <td>0</td>\n",
       "    </tr>\n",
       "    <tr>\n",
       "      <th>Tea_Poured</th>\n",
       "      <td>0</td>\n",
       "      <td>3</td>\n",
       "    </tr>\n",
       "  </tbody>\n",
       "</table>\n",
       "</div>"
      ],
      "text/plain": [
       "             Milk_Guess  Tea_Guess\n",
       "Milk_Poured           5          0\n",
       "Tea_Poured            0          3"
      ]
     },
     "execution_count": 17,
     "metadata": {},
     "output_type": "execute_result"
    }
   ],
   "source": [
    "#Create Table with Pandas\n",
    "ar=np.array([[5, 0],[0, 3]])    \n",
    "df=pd.DataFrame(ar, columns=[\"Milk_Guess\", \"Tea_Guess\"])\n",
    "df.index=[\"Milk_Poured\", \"Tea_Poured\"] \n",
    "df "
   ]
  },
  {
   "cell_type": "code",
   "execution_count": 18,
   "id": "56ada5ad",
   "metadata": {},
   "outputs": [
    {
     "data": {
      "text/html": [
       "<div>\n",
       "<style scoped>\n",
       "    .dataframe tbody tr th:only-of-type {\n",
       "        vertical-align: middle;\n",
       "    }\n",
       "\n",
       "    .dataframe tbody tr th {\n",
       "        vertical-align: top;\n",
       "    }\n",
       "\n",
       "    .dataframe thead th {\n",
       "        text-align: right;\n",
       "    }\n",
       "</style>\n",
       "<table border=\"1\" class=\"dataframe\">\n",
       "  <thead>\n",
       "    <tr style=\"text-align: right;\">\n",
       "      <th></th>\n",
       "      <th>Milk_Guess</th>\n",
       "      <th>Tea_Guess</th>\n",
       "      <th>Row_Total</th>\n",
       "    </tr>\n",
       "  </thead>\n",
       "  <tbody>\n",
       "    <tr>\n",
       "      <th>Milk_Poured</th>\n",
       "      <td>5</td>\n",
       "      <td>0</td>\n",
       "      <td>5</td>\n",
       "    </tr>\n",
       "    <tr>\n",
       "      <th>Tea_Poured</th>\n",
       "      <td>0</td>\n",
       "      <td>3</td>\n",
       "      <td>3</td>\n",
       "    </tr>\n",
       "    <tr>\n",
       "      <th>Column_Total</th>\n",
       "      <td>5</td>\n",
       "      <td>3</td>\n",
       "      <td>8</td>\n",
       "    </tr>\n",
       "  </tbody>\n",
       "</table>\n",
       "</div>"
      ],
      "text/plain": [
       "              Milk_Guess  Tea_Guess  Row_Total\n",
       "Milk_Poured            5          0          5\n",
       "Tea_Poured             0          3          3\n",
       "Column_Total           5          3          8"
      ]
     },
     "execution_count": 18,
     "metadata": {},
     "output_type": "execute_result"
    }
   ],
   "source": [
    "# Add the marginal totals and the grand total\n",
    "df2=df.copy()\n",
    "df2.loc['Column_Total']= df2.sum(numeric_only=True, axis=0)\n",
    "df2.loc[:,'Row_Total'] = df2.sum(numeric_only=True, axis=1)\n",
    "df2"
   ]
  },
  {
   "cell_type": "markdown",
   "id": "23e37f75",
   "metadata": {},
   "source": [
    "Here when we multiply the respective Row_Total with its respective Column_Total and divide by the grand total the formula for the expected outcome for each figure would be (5/8) * (3/8) * 8 or (5*3) / 8"
   ]
  },
  {
   "cell_type": "code",
   "execution_count": 19,
   "id": "a8f274cc",
   "metadata": {},
   "outputs": [
    {
     "data": {
      "text/plain": [
       "1.875"
      ]
     },
     "execution_count": 19,
     "metadata": {},
     "output_type": "execute_result"
    }
   ],
   "source": [
    "# Calculating Expected value in each cell\n",
    "(5*3) / 8"
   ]
  },
  {
   "cell_type": "markdown",
   "id": "dabaaf5c",
   "metadata": {},
   "source": [
    "So now we have the expected value for each cell (we are going back to the **(4*4) / 8** scenario as that was the original question).\n",
    "We will now try to use the fisher_exact method from scipy.stats to get the value of the chances of 4 random choices picking the all 4 of exact right cups (tea first is the correct way - I dont care what anyone says!!)"
   ]
  },
  {
   "cell_type": "code",
   "execution_count": 20,
   "id": "bde4c6fa",
   "metadata": {},
   "outputs": [
    {
     "data": {
      "text/plain": [
       "<function scipy.stats.stats.fisher_exact(table, alternative='two-sided')>"
      ]
     },
     "execution_count": 20,
     "metadata": {},
     "output_type": "execute_result"
    }
   ],
   "source": [
    "# Run the Fisher_exact method\n",
    "ss.fisher_exact"
   ]
  },
  {
   "cell_type": "code",
   "execution_count": 21,
   "id": "f7ab165d",
   "metadata": {},
   "outputs": [],
   "source": [
    "#This is my data\n",
    "data = [[4,0],[0,4]]"
   ]
  },
  {
   "cell_type": "code",
   "execution_count": 22,
   "id": "fd5e4a12",
   "metadata": {},
   "outputs": [
    {
     "data": {
      "text/plain": [
       "(inf, 0.028571428571428536)"
      ]
     },
     "execution_count": 22,
     "metadata": {},
     "output_type": "execute_result"
    }
   ],
   "source": [
    "# Running the fisher exact method using the data from my original table\n",
    "ss.fisher_exact(data)"
   ]
  },
  {
   "cell_type": "markdown",
   "id": "d281bd8c",
   "metadata": {},
   "source": [
    "So here I was expecting to get the value of 1/70 or 0.014285714285714285 to be exact. However as you can see the figure produced from the code above does not match, however it is suspisiously almost exactly double what I expected (beyond 10 decimal places). So here I went back to the scipy.stats Fisher Exact Test documentation, see link here: https://docs.scipy.org/doc/scipy/reference/generated/scipy.stats.fisher_exact.html  \n",
    "From the documentation I could see that there were numerous values that defines the hypothesis using the \"alternative\" parameter.\n",
    "\n",
    " - ‘two-sided’: the odds ratio of the underlying population is not one **(THIS IS THE DEFAULT IF NO VALUE IS DECLARED)**\n",
    " - ‘less’: the odds ratio of the underlying population is less than one\n",
    " - ‘greater’: the odds ratio of the underlying population is greater than one\n",
    "\n",
    "Now we know that the formuala for the odds ratio is:\n",
    "\n",
    "<img src=\"Images\\odds_r.jpg\" style=\"margin:auto\"/>\n",
    "\n",
    "\n",
    "However, because we know the input data has a 0 input, this will return inf (infinty) for the odds ratio.  \n",
    "\n",
    "*\"If you have an infinite odds in the denominator, then your odds ratio is zero. If you have a zero odds in the denominator, then your odds ratio is infinite.\"* [[6]](http://blog.pmean.com/zero-or-infinity/) \n",
    "\n",
    "Now I am not a mathematian by any means, in my mind infinity is a kind of mythical unachievable entity, however from my limited understanding and research this is the clearest explanation I found: \n",
    "\n",
    "*\"Infinity is not a real number.  \n",
    "Infinity is a number, in other contexts. For example, in the Extended Real Numbers, it is a number. This set is of a huge importance for subjects like measure theory and integration theory. In the Ordinals or in the Cardinals (used extensively in set theory), infinity isn't just a number, it is an entire range of numbers.  \n",
    "And yes, in all of these systems, infinity is greater than one.\"*[[7]](https://math.stackexchange.com/questions/2387286/is-infinity-larger-than-1)\n",
    "\n",
    "If we take  this as true and look at the 3 paramaters, that would mean that the *\"greater\"* parameter should be applied to the data for this example of the Tea Test."
   ]
  },
  {
   "cell_type": "code",
   "execution_count": 23,
   "id": "b6a8e575",
   "metadata": {},
   "outputs": [],
   "source": [
    "oddsr, p = ss.fisher_exact(data, alternative='greater')"
   ]
  },
  {
   "cell_type": "code",
   "execution_count": 24,
   "id": "4d95d28c",
   "metadata": {},
   "outputs": [
    {
     "data": {
      "text/plain": [
       "(inf, 0.014285714285714268)"
      ]
     },
     "execution_count": 24,
     "metadata": {},
     "output_type": "execute_result"
    }
   ],
   "source": [
    "# Odds ratio returning infinity as expected and we are now returing the 0.014285... (1/70)\n",
    "oddsr, p"
   ]
  },
  {
   "cell_type": "code",
   "execution_count": null,
   "id": "0d8e2baf",
   "metadata": {},
   "outputs": [],
   "source": []
  },
  {
   "cell_type": "markdown",
   "id": "c548e6d0",
   "metadata": {},
   "source": [
    "#### *Bonus Excercise for 1.1:* How many would be required if you were to let the taster get one cup wrong while maintaining the 1% threshold?"
   ]
  },
  {
   "cell_type": "code",
   "execution_count": null,
   "id": "3a8c5bf2",
   "metadata": {},
   "outputs": [],
   "source": [
    "ss.fisher_exact([[7,1],[1,7]], alternative='greater')"
   ]
  },
  {
   "cell_type": "code",
   "execution_count": null,
   "id": "cd441fba",
   "metadata": {},
   "outputs": [],
   "source": []
  },
  {
   "cell_type": "code",
   "execution_count": null,
   "id": "4d31cbe2",
   "metadata": {},
   "outputs": [],
   "source": []
  },
  {
   "cell_type": "code",
   "execution_count": null,
   "id": "f018302b",
   "metadata": {},
   "outputs": [],
   "source": []
  },
  {
   "cell_type": "code",
   "execution_count": null,
   "id": "c4a30067",
   "metadata": {},
   "outputs": [],
   "source": [
    "import numpy as np\n",
    "import pandas as pd\n",
    "import scipy.special"
   ]
  },
  {
   "cell_type": "code",
   "execution_count": null,
   "id": "c31e8724",
   "metadata": {},
   "outputs": [],
   "source": [
    "#Create Table with Pandas\n",
    "ar=np.array([[4, 0],[0, 4]])    \n",
    "df=pd.DataFrame(ar, columns=[\"Milk_Guess\", \"Tea_Guess\"])\n",
    "df.index=[\"Milk_Poured\", \"Tea_Poured\"] \n",
    "df "
   ]
  },
  {
   "cell_type": "code",
   "execution_count": null,
   "id": "fa742e60",
   "metadata": {},
   "outputs": [],
   "source": []
  },
  {
   "cell_type": "code",
   "execution_count": null,
   "id": "043ddd5a",
   "metadata": {},
   "outputs": [],
   "source": [
    "n=df2.at[\"Column_Total\", \"Row_Total\"]  # grand total \n",
    "\n",
    "exp=df2.copy()               # create dataframe with expected frequencies\n",
    "for x in exp.index[0:-1]:\n",
    "    for y in exp.columns[0:-1]:\n",
    "        # round expected values to nearest hundredths:\n",
    "        v= (((df2.at[x, \"Row_Total\"]) * (df2.at[\"Column_Total\", y])   )   /n ).round(2) \n",
    "        exp.at[x,y]=float(v)\n",
    "\n",
    "exp"
   ]
  },
  {
   "cell_type": "code",
   "execution_count": null,
   "id": "3c329734",
   "metadata": {},
   "outputs": [],
   "source": [
    "def p(a): \n",
    "    v=(scipy.special.binom(int(df2.iloc[0,2]), a) * scipy.special.binom(int(df2.iloc[1,2]), (int(df2.iloc[2,0])-a)) )/scipy.special.binom(n, int(df2.iloc[2,0]))\n",
    "    return v\n",
    "\n",
    "p(1) # if we try \"a=1\" we get the following probability ... "
   ]
  },
  {
   "cell_type": "code",
   "execution_count": null,
   "id": "85f24fd4",
   "metadata": {},
   "outputs": [],
   "source": [
    "p_observed=p(7) # In our contingency table, a was equal to 7.\n",
    "\n",
    "p_list=[]\n",
    "for i in range(int(df2.iloc[0,2])  + 1  ): # calculate p(a) for every possible table we can get given the fixed margins...\n",
    "#... this ranges from \"9 choose 0\" to \"9 choose 9\" so we should get 10 possible tables and their respective probabilities..\n",
    "    if p(i)<=p_observed:\n",
    "        p_list.append(p(i))     # append these probabilites to p_list only if <= p_observed\n",
    "        \n",
    "p_val=np.sum(p_list) # the sum of this list corresponds to the p-value \n",
    "p_val "
   ]
  },
  {
   "cell_type": "markdown",
   "id": "d031fde1",
   "metadata": {},
   "source": [
    "# The t-Test\n",
    "\n",
    "**A *t-Test* is an inferential statistic used to determine if there is a significant difference between the means of two groups and how they are related.**  \n",
    "T-tests are used when the data sets follow a normal distribution and have unknown variances, like the data set recorded from flipping a coin 100 times.  \n",
    "\n",
    "##### Key Takeaways\n",
    " - A t-test is an inferential statistic used to determine if there is a statistically significant difference between the means of two variables.  \n",
    " - The t-test is a test used for hypothesis testing in statistics.  \n",
    " - Calculating a t-test requires three fundamental data values including the difference between the mean values from each data set, the standard deviation of each group, and the number of data values.  \n",
    " - T-tests can be dependent or independent.  \n",
    " \n",
    " ##### Assumptions of a **t-Test**\n",
    "Four assumptions are made while using a t-test.  \n",
    " - The data collected must follow a continuous or ordinal scale, such as the scores for an IQ test.  \n",
    " - The data is collected from a randomly selected portion of the total population.  \n",
    " - The data will result in a normal distribution of a bell-shaped curve.  \n",
    " - Equal or homogenous variance exists when the standard variations are equal.  \n",
    "[Investopedia](https://www.investopedia.com/terms/t/t-test.asp)"
   ]
  },
  {
   "cell_type": "markdown",
   "id": "7e536b53",
   "metadata": {},
   "source": [
    "### Simulated Data\n",
    "\n",
    "Here I am creating a fake dataset with specfic proparties to investigate numerical methods."
   ]
  },
  {
   "cell_type": "code",
   "execution_count": 36,
   "id": "16e67f59",
   "metadata": {},
   "outputs": [
    {
     "data": {
      "text/html": [
       "<div>\n",
       "<style scoped>\n",
       "    .dataframe tbody tr th:only-of-type {\n",
       "        vertical-align: middle;\n",
       "    }\n",
       "\n",
       "    .dataframe tbody tr th {\n",
       "        vertical-align: top;\n",
       "    }\n",
       "\n",
       "    .dataframe thead th {\n",
       "        text-align: right;\n",
       "    }\n",
       "</style>\n",
       "<table border=\"1\" class=\"dataframe\">\n",
       "  <thead>\n",
       "    <tr style=\"text-align: right;\">\n",
       "      <th></th>\n",
       "      <th>Category</th>\n",
       "      <th>Value</th>\n",
       "    </tr>\n",
       "  </thead>\n",
       "  <tbody>\n",
       "    <tr>\n",
       "      <th>0</th>\n",
       "      <td>A</td>\n",
       "      <td>0.895411</td>\n",
       "    </tr>\n",
       "    <tr>\n",
       "      <th>1</th>\n",
       "      <td>A</td>\n",
       "      <td>0.865902</td>\n",
       "    </tr>\n",
       "    <tr>\n",
       "      <th>2</th>\n",
       "      <td>A</td>\n",
       "      <td>0.905532</td>\n",
       "    </tr>\n",
       "    <tr>\n",
       "      <th>3</th>\n",
       "      <td>A</td>\n",
       "      <td>0.732474</td>\n",
       "    </tr>\n",
       "    <tr>\n",
       "      <th>4</th>\n",
       "      <td>A</td>\n",
       "      <td>1.871061</td>\n",
       "    </tr>\n",
       "    <tr>\n",
       "      <th>...</th>\n",
       "      <td>...</td>\n",
       "      <td>...</td>\n",
       "    </tr>\n",
       "    <tr>\n",
       "      <th>75</th>\n",
       "      <td>B</td>\n",
       "      <td>2.406934</td>\n",
       "    </tr>\n",
       "    <tr>\n",
       "      <th>76</th>\n",
       "      <td>B</td>\n",
       "      <td>2.737405</td>\n",
       "    </tr>\n",
       "    <tr>\n",
       "      <th>77</th>\n",
       "      <td>B</td>\n",
       "      <td>2.409695</td>\n",
       "    </tr>\n",
       "    <tr>\n",
       "      <th>78</th>\n",
       "      <td>B</td>\n",
       "      <td>1.300972</td>\n",
       "    </tr>\n",
       "    <tr>\n",
       "      <th>79</th>\n",
       "      <td>B</td>\n",
       "      <td>1.340170</td>\n",
       "    </tr>\n",
       "  </tbody>\n",
       "</table>\n",
       "<p>80 rows × 2 columns</p>\n",
       "</div>"
      ],
      "text/plain": [
       "   Category     Value\n",
       "0         A  0.895411\n",
       "1         A  0.865902\n",
       "2         A  0.905532\n",
       "3         A  0.732474\n",
       "4         A  1.871061\n",
       "..      ...       ...\n",
       "75        B  2.406934\n",
       "76        B  2.737405\n",
       "77        B  2.409695\n",
       "78        B  1.300972\n",
       "79        B  1.340170\n",
       "\n",
       "[80 rows x 2 columns]"
      ]
     },
     "execution_count": 36,
     "metadata": {},
     "output_type": "execute_result"
    }
   ],
   "source": [
    "# Parameters for two different sets of numbers\n",
    "m_a, s_a, m_b, s_b = 1.2, 0.4, 2.0, 0.4\n",
    "\n",
    "# Sample size\n",
    "N=40\n",
    "\n",
    "# Create two lists of numbs nased on bell-shaped pabability curves.\n",
    "a = np.random.normal(loc = m_a, scale = s_a, size = N)\n",
    "b = np.random.normal(loc = m_b, scale = s_b, size = N)\n",
    "\n",
    "# Both Samples in one Dataframe(DF)\n",
    "df = pd.DataFrame({'Category': ['A'] * len(a) + ['B'] * len(b), 'Value':np.hstack([a,b])})\n",
    "\n",
    "# Look at the nums\n",
    "df\n"
   ]
  },
  {
   "cell_type": "markdown",
   "id": "669f85ec-e12b-4c5c-8856-a941808864ee",
   "metadata": {},
   "source": [
    "This has created a dataframe with 2 columns (Category and Value) - 40 of the numbers are **Category A** (Mean is 1.2(centered around 1.2) and scale is 0.4) and 40 are **Category B** (Mean is 2.0(centered around 2.0) and scale is 0.4). However it is difficult to draw any conclusions around this data so lets visualize it. "
   ]
  },
  {
   "cell_type": "markdown",
   "id": "f4e13d54",
   "metadata": {},
   "source": [
    "### Visualisation\n",
    "\n",
    "Here I will use a catplot from the python package seaborn to show the overlap between the two sets of data. (**A** and **B**)"
   ]
  },
  {
   "cell_type": "code",
   "execution_count": 38,
   "id": "766a38fb",
   "metadata": {},
   "outputs": [
    {
     "data": {
      "text/plain": [
       "<seaborn.axisgrid.FacetGrid at 0x1ee134600d0>"
      ]
     },
     "execution_count": 38,
     "metadata": {},
     "output_type": "execute_result"
    },
    {
     "data": {
      "image/png": "[encoded data removed]",
      "text/plain": [
       "<Figure size 360x360 with 1 Axes>"
      ]
     },
     "metadata": {
      "needs_background": "light"
     },
     "output_type": "display_data"
    }
   ],
   "source": [
    "# Display DF in Catplot\n",
    "sns.catplot(x = 'Category', y = \"Value\", jitter = False, data=df)"
   ]
  },
  {
   "cell_type": "markdown",
   "id": "c64e5a8d-6cce-4323-bd08-c4689e787803",
   "metadata": {},
   "source": [
    "We can see from the catplot that the majority of the numbers from **A** are centered around 1.2(normal distribution - bell curve) and from **B** they are centered around 2.0 - this is as we would have expected, as that is how we set up the data.  \n",
    "We can see there is significent overlap betweent the 2 lines - mostly between the values of 1.4 and 1.8.  \n",
    "Now I know the data is different as I created it  - however it would be hard to convince my boss or whoever as to how significantly different it is based on the image above, as there is so much overlap.\n",
    "\n",
    "One way to show the diffence in this data (we are now assuming that we didnt create it - where/how A and B were created is \"unknown\") is by using a test called the t-Test.  (**Not Tea Test, t-Test!!**)"
   ]
  },
  {
   "cell_type": "markdown",
   "id": "7cf987d8",
   "metadata": {},
   "source": [
    "#### t-Test Example using built in packages\n",
    "\n",
    "So first question is how did I know to run this test. Well I simply googled ***\"best test to compare 2 sets of data\".***  \n",
    "The first result i got was this: \n",
    "\n",
    "\n",
    "<img src=\"Images\\t_test_search.PNG\" style=\"margin:auto\"/>\n"
   ]
  },
  {
   "cell_type": "markdown",
   "id": "5b92d18d-3f43-47e7-9af0-034786891871",
   "metadata": {},
   "source": [
    "From there I searched for the t-test in python and began to see was it applicable to my data.  \n",
    "From a brife search it was clear a lot or research and work had already been done on this topic.  \n",
    "It was now a matter of finding the correct type of **t-Test** that was relavent to me.\n",
    "\n",
    "There are a number of types of t-test:\n",
    " - ttest_ind: For two independent sets of data. **(This is the one I will be using)**\n",
    " - ttest_1samp:When there is only one sample of data.\n",
    " - ttest_rel: When the two data sets are related in some way."
   ]
  },
  {
   "cell_type": "markdown",
   "id": "77c1c29e-009b-4f4d-856a-7088dc498188",
   "metadata": {},
   "source": [
    "Below I am going to run the **t-Test** using two different python libaries, just to confirm that the results are pretty much the same (May be slight discrpancy down past 9 or 10 decimal places depending on how the calculations are done in the background)."
   ]
  },
  {
   "cell_type": "code",
   "execution_count": 43,
   "id": "5a182600",
   "metadata": {},
   "outputs": [
    {
     "name": "stdout",
     "output_type": "stream",
     "text": [
      "t-value: -10.275846374037759\tp-value:3.732386251854009e-16\n",
      "P_scipy: 0.00\n"
     ]
    }
   ],
   "source": [
    "# Scipy.stats t-Test\n",
    "# See code and documentation here: https://docs.scipy.org/doc/scipy/reference/generated/scipy.stats.ttest_ind.html\n",
    "\n",
    "t_ss, p_ss = ss.ttest_ind(a, b)\n",
    "print(f\"t-value: {t_ss}\\tp-value:{p_ss}\")\n",
    "print(f\"P_scipy: {p_ss:0.2f}\")\n"
   ]
  },
  {
   "cell_type": "code",
   "execution_count": 44,
   "id": "efe6bcb3",
   "metadata": {},
   "outputs": [
    {
     "name": "stdout",
     "output_type": "stream",
     "text": [
      "t-value:-10.275846374037762\tp-value: 3.7323862518539555e-16\tDeg Free: 78.0\n",
      "P_statsmodels: 0.00\n"
     ]
    }
   ],
   "source": [
    "#Stats model version\n",
    "# See code and documentation here: https://www.statsmodels.org/stable/generated/statsmodels.stats.weightstats.ttest_ind.html#statsmodels.stats.weightstats.ttest_ind\n",
    "t_sm, p_sm, d_sm = stat.ttest_ind(a,b)\n",
    "print (f\"t-value:{t_sm}\\tp-value: {p_sm}\\tDeg Free: {d_sm}\")\n",
    "print(f\"P_statsmodels: {p_sm:0.2f}\")"
   ]
  },
  {
   "cell_type": "markdown",
   "id": "909e60ba-14b9-4605-a1a3-ed5cf4204d4e",
   "metadata": {},
   "source": [
    "Both retrun a t-value and p-value, the stats model function also returns a degree value(Degree value is the **Degrees of Freedom**, (Number of values in **a** + Number of values in **b**) - 2  In this case:(40+40)-2 = 78.\n",
    "\n",
    "So as we can see the results are the same up to around 10 decimal places for the t-value and the p-value.  "
   ]
  },
  {
   "cell_type": "markdown",
   "id": "e54768df",
   "metadata": {},
   "source": [
    "#### t-Test Example manually done"
   ]
  },
  {
   "cell_type": "code",
   "execution_count": null,
   "id": "cb2ebd3c",
   "metadata": {},
   "outputs": [],
   "source": [
    "# Calcualte the t statistic by hand\n",
    "\n",
    "#Lenghth of the arrays\n",
    "n1 = len(a)\n",
    "n2 = len(b)\n",
    "\n",
    "# Means of the samples\n",
    "m1 = np.mean(a)\n",
    "m2 = np.mean(b)\n",
    "\n",
    "# Sample Standard Deviations\n",
    "s1 = np.sqrt(np.sum((a - m1)**2) / (n1-1))\n",
    "s2 = np.sqrt(np.sum((b - m2)**2) / (n2-1))\n",
    "\n",
    "df = n1 + n2 - 2\n",
    "#print (df)"
   ]
  },
  {
   "cell_type": "code",
   "execution_count": null,
   "id": "dad5395a",
   "metadata": {},
   "outputs": [],
   "source": [
    "\n",
    "sp2 = ((n1 - 1) * s1**2 + (n2 - 1) * s2**2) / df\n",
    "t = (m1-m2) / (np.sqrt(sp2)* np.sqrt(1.0/n1 + 1.0/n2))\n",
    "t"
   ]
  },
  {
   "cell_type": "markdown",
   "id": "e97d90c0",
   "metadata": {},
   "source": [
    "### Populations (Set of Numbers)\n",
    "t-Tests perform calculations aon the samples from two populations to test whether the populations are likely similar.  \n",
    "\n",
    "In the real world we only see the samples and we cannot see the populations"
   ]
  },
  {
   "cell_type": "code",
   "execution_count": null,
   "id": "778714e2",
   "metadata": {},
   "outputs": [],
   "source": [
    "# Creatate a plot with the following values\n",
    "x = np.linspace(-2.0, 4.0, 1000)\n",
    "\n",
    "# Plot 2 different populations on one axis\n",
    "y_a = ss.norm.pdf(x, m_a, s_a)\n",
    "y_b = ss.norm.pdf(x, m_b, s_b)\n",
    "\n",
    "fig, ax = plt.subplots(figsize = (10,6))\n",
    "\n",
    "ax.plot(x, y_a)\n",
    "ax.plot(x, y_b)\n",
    "\n",
    "plt.show()"
   ]
  },
  {
   "cell_type": "markdown",
   "id": "12b187e4",
   "metadata": {},
   "source": [
    "### Critical Value\n",
    "\n",
    "The critical value is used to make a decision regarding the calculation of the *t* statistic from the samples.\n",
    "\n",
    "If the probability of seeing such a *t* value given the hypothesis that there is no difference between the means is low, then the data is suggesting that you should reject the hypothesis"
   ]
  },
  {
   "cell_type": "code",
   "execution_count": null,
   "id": "04e24a1d",
   "metadata": {},
   "outputs": [],
   "source": [
    "# Build the plot as an example\n",
    "\n",
    "x_t = np.linspace(-4.0, 4.0, 1000)\n",
    "t = ss.t.pdf(x_t, d_sm)\n",
    "tf = pd.DataFrame({'x':x_t, 't': t})\n",
    "\n",
    "tcrit = abs(ss.t.pdf(0.025, d_sm))\n",
    "one = tf[tf['x']>= tcrit]\n",
    "two = tf[tf['x']<= -tcrit]\n",
    "\n",
    "fig, ax = plt.subplots(figsize=(10,6))\n",
    "\n",
    "ax.plot(x_t, t)\n",
    "ax.fill_between(one['x'], one['t'], 0, facecolor = 'red')\n",
    "ax.fill_between(two['x'], two['t'], 0, facecolor = 'red')\n",
    "\n",
    "plt.show()\n"
   ]
  },
  {
   "cell_type": "markdown",
   "id": "e1ddd4d2",
   "metadata": {},
   "source": [
    "### Type 1 Errors - False Positives\n"
   ]
  },
  {
   "cell_type": "code",
   "execution_count": null,
   "id": "aee858ba",
   "metadata": {},
   "outputs": [],
   "source": [
    "# Run 10000 t-tests where the means are equal\n",
    "# We should make the \"wrong\" decision (reject the hypothesis)(100*critical) per cent of the time.\n",
    "\n",
    "trials = 10000\n",
    "N = 100\n",
    "m_a, m_b, s = 2.0, 2.0, 0.3\n",
    "rejects = 0\n",
    "critical = 0.05\n",
    "\n",
    "for i in range(trials):\n",
    "    a = np.random.normal(loc = m_a, scale = s, size = N)\n",
    "    b = np.random.normal(loc = m_b, scale = s, size = N)\n",
    "    if ss.ttest_ind(a, b)[1] <= critical:\n",
    "        rejects = rejects + 1\n",
    "\n",
    "typei = 100.0 *(rejects / trials)\n",
    "print (f\"{typei:0.2f}%\")"
   ]
  },
  {
   "cell_type": "markdown",
   "id": "b2488a4a",
   "metadata": {},
   "source": [
    "### Type 2 errors - False negatives\n",
    "The chance of a false negative is harder to quantify.\n",
    "\n",
    "It depends how close the means are."
   ]
  },
  {
   "cell_type": "code",
   "execution_count": null,
   "id": "65688241",
   "metadata": {},
   "outputs": [],
   "source": [
    "trials = 10000\n",
    "N = 100\n",
    "m_a, m_b, s = 2.0, 2.1, 0.3\n",
    "dont = 0\n",
    "critical = 0.05\n",
    "\n",
    "for i in range(trials):\n",
    "    a = np.random.normal(loc = m_a, scale = s, size = N)\n",
    "    b = np.random.normal(loc = m_b, scale = s, size = N)\n",
    "    if ss.ttest_ind(a, b)[1] > critical:\n",
    "        dont = dont + 1\n",
    "\n",
    "typeii = 100.0 *(dont / trials)\n",
    "print (f\"{typeii:0.2f}%\")"
   ]
  },
  {
   "cell_type": "markdown",
   "id": "298a2976",
   "metadata": {},
   "source": [
    "### Paired Samples\n",
    "\n",
    "Here we try a slightly different *t* test on repeated measures"
   ]
  },
  {
   "cell_type": "code",
   "execution_count": null,
   "id": "c8356361",
   "metadata": {},
   "outputs": [],
   "source": [
    "dfsleep = pd.read_csv(\"https://vincentarelbundock.github.io/Rdatasets/csv/datasets/sleep.csv\")\n",
    "dfsleep"
   ]
  },
  {
   "cell_type": "code",
   "execution_count": null,
   "id": "acd53d58",
   "metadata": {},
   "outputs": [],
   "source": [
    "drugA = dfsleep[dfsleep[\"group\"]==1]\n",
    "drugA = drugA.sort_values(\"ID\")\n",
    "drugA = drugA[\"extra\"].to_numpy()\n",
    "drugA"
   ]
  },
  {
   "cell_type": "code",
   "execution_count": null,
   "id": "cb28e199",
   "metadata": {},
   "outputs": [],
   "source": [
    "drugB = dfsleep[dfsleep[\"group\"]==2]\n",
    "drugB = drugB.sort_values(\"ID\")\n",
    "drugB = drugB[\"extra\"].to_numpy()\n",
    "drugB"
   ]
  },
  {
   "cell_type": "code",
   "execution_count": null,
   "id": "5a02f3ea",
   "metadata": {},
   "outputs": [],
   "source": [
    "ss.ttest_rel(drugA, drugB)"
   ]
  },
  {
   "cell_type": "code",
   "execution_count": null,
   "id": "53eaeb2f",
   "metadata": {},
   "outputs": [],
   "source": [
    "ss.ttest_1samp(drugB-drugA, 0)"
   ]
  },
  {
   "cell_type": "code",
   "execution_count": null,
   "id": "a2f28d4a",
   "metadata": {},
   "outputs": [],
   "source": [
    "stat.DescrStatsW(drugB-drugA).ttest_mean(0)"
   ]
  },
  {
   "cell_type": "code",
   "execution_count": null,
   "id": "bfc29b2d",
   "metadata": {},
   "outputs": [],
   "source": []
  },
  {
   "cell_type": "markdown",
   "id": "0588ec8e",
   "metadata": {},
   "source": [
    "### Problems with multiple *t-Tests*\n",
    "\n",
    "Suppose we want to compare 3 groups - can 3 *t-Tests* be run in parallel"
   ]
  },
  {
   "cell_type": "code",
   "execution_count": null,
   "id": "3156566b",
   "metadata": {},
   "outputs": [],
   "source": [
    "#Size of each sample\n",
    "N=100\n",
    "\n",
    "#Create 3 Samples\n",
    "sampA = np.random.normal(1.0, 0.2, N)\n",
    "sampB = np.random.normal(1.0, 0.2, N)\n",
    "sampC = np.random.normal(2.0, 0.2, N)\n",
    "\n",
    "#Put Samples in a single df\n",
    "sample = ['A'] * N + ['B'] * N + ['C'] * N\n",
    "values = np.hstack([sampA, sampB, sampC])\n",
    "dfsamps = pd.DataFrame({'Sample': sample, 'Value': values})\n",
    "\n",
    "# Visualise samples\n",
    "sns.catplot(x = 'Sample', y = 'Value', jitter = False, data = dfsamps)"
   ]
  },
  {
   "cell_type": "code",
   "execution_count": null,
   "id": "560106ef",
   "metadata": {},
   "outputs": [],
   "source": [
    "# t-Tests\n",
    "t_AB, p_AB = ss.ttest_ind(sampA, sampB)\n",
    "t_AC, p_AC = ss.ttest_ind(sampA, sampC)\n",
    "t_BC, p_BC = ss.ttest_ind(sampB, sampC)\n",
    "\n",
    "print(f\"p_AB: {p_AB:.2f} \\tp_AC: {p_AC:.2f} \\tp_BC: {p_BC:.2f}\")"
   ]
  },
  {
   "cell_type": "code",
   "execution_count": null,
   "id": "56cc4a18",
   "metadata": {},
   "outputs": [],
   "source": [
    "# Run 1000 tests, remembering the Type I errors\n",
    "\n",
    "falsepos = 0\n",
    "\n",
    "for i in range (1000):\n",
    "    A = np.random.normal(1.0, 0.2, N)\n",
    "    B = np.random.normal(1.0, 0.2, N)\n",
    "    C = np.random.normal(1.0, 0.2, N)\n",
    "    t_AB, p_AB = ss.ttest_ind(A, B)\n",
    "    t_AC, p_AC = ss.ttest_ind(A, C)\n",
    "    t_BC, p_BC = ss.ttest_ind(B, C)\n",
    "    if p_AB <= 0.05 or p_AC <= 0.05 or p_BC <= 0.05:\n",
    "        falsepos = falsepos + 1\n",
    "\n",
    "print (f\"False Positive Rate: {falsepos / 10}%\")"
   ]
  },
  {
   "cell_type": "markdown",
   "id": "1bf28bbf",
   "metadata": {},
   "source": [
    "As you can see even with the critical value at 5% we are still getting false positisve at a much higher rate (I ran this around 20 times and it returned at a rate between 10.6-13.9% (mostly around the 11.5% mark)"
   ]
  },
  {
   "cell_type": "markdown",
   "id": "a6342668",
   "metadata": {},
   "source": [
    "### Analysis of Varience (ANOVA)\n",
    "\n",
    "ANOVA can be used to avoid a higher Type 1 Error Rate"
   ]
  },
  {
   "cell_type": "code",
   "execution_count": null,
   "id": "c81a73ab",
   "metadata": {},
   "outputs": [],
   "source": [
    "F, P = ss.f_oneway(sampA, sampB, sampC)\n",
    "print(f\"F:{F:.2f} P:{P:.2f}\")"
   ]
  },
  {
   "cell_type": "code",
   "execution_count": null,
   "id": "4badf24a",
   "metadata": {},
   "outputs": [],
   "source": [
    "# Let's run 10000 ANOVAs where the population means are equal.\n",
    "# We should make the wrong decision (reject the hypothesis) (100 * critical) percent of the time.\n",
    "# We expect to incorrectly reject the null hypothesis 5% of the time.\n",
    "\n",
    "# The number of trials to run.\n",
    "trials = 10000\n",
    "# The number of values in each sample.\n",
    "N = 100\n",
    "# Population 1 mean, population 2 mean, population 3 mean, standard deviation in both.\n",
    "mean1, mean2, mean3, stddev = 2.0, 2.0, 2.0, 0.3\n",
    "# Critical probability value.\n",
    "critical = 0.05\n",
    "\n",
    "# Running total of type I errors commited.\n",
    "rejects = 0\n",
    "\n",
    "# Loop throguh trials.\n",
    "for i in range(trials):\n",
    "    # Generate sample 1.\n",
    "    sample1 = np.random.normal(loc=mean1, scale=stddev, size=N)\n",
    "    # Generate sample 2.\n",
    "    sample2 = np.random.normal(loc=mean2, scale=stddev, size=N)\n",
    "    # Generate sample 3.\n",
    "    sample3 = np.random.normal(loc=mean3, scale=stddev, size=N)\n",
    "    # Run the test.\n",
    "    F, p = ss.f_oneway(sample1, sample2, sample3)\n",
    "    # If any is less than critical, reject.\n",
    "    if p <= critical:\n",
    "        rejects = rejects + 1\n",
    "\n",
    "# Print results.\n",
    "typei = 100.0 * (rejects / trials)\n",
    "print(f\"{typei:0.2f}%\")"
   ]
  },
  {
   "cell_type": "markdown",
   "id": "b432f072-72d4-451c-b3c9-6e0fdc14ed16",
   "metadata": {},
   "source": [
    "### Exercise 3\n",
    "\n",
    "Take the code from the Examples section of the scipy stats documentation for independent samples t-tests, add it to your own notebook and add explain how it works using MarkDown cells and code comments. Improve it in any way you think it could be improved.\n",
    "\n"
   ]
  },
  {
   "cell_type": "code",
   "execution_count": null,
   "id": "ec759027-3fba-4e68-8803-99733c7442bf",
   "metadata": {},
   "outputs": [],
   "source": []
  },
  {
   "cell_type": "code",
   "execution_count": null,
   "id": "3124df30-4045-4b05-81a5-854c9ace1a76",
   "metadata": {},
   "outputs": [],
   "source": []
  },
  {
   "cell_type": "code",
   "execution_count": null,
   "id": "e39172ea-d8b1-4e33-9687-246c94aba526",
   "metadata": {},
   "outputs": [],
   "source": []
  },
  {
   "cell_type": "code",
   "execution_count": null,
   "id": "beb320cf-ee28-47d1-b3df-d890721bd365",
   "metadata": {},
   "outputs": [],
   "source": []
  },
  {
   "cell_type": "code",
   "execution_count": null,
   "id": "771c1c6b-713e-4512-beb8-507ef2bd9df4",
   "metadata": {},
   "outputs": [],
   "source": []
  },
  {
   "cell_type": "code",
   "execution_count": null,
   "id": "154c2a17-0265-4509-8925-5165ff9287d2",
   "metadata": {},
   "outputs": [],
   "source": []
  },
  {
   "cell_type": "code",
   "execution_count": null,
   "id": "bc921260-285f-4939-9343-8f35798c3661",
   "metadata": {},
   "outputs": [],
   "source": []
  },
  {
   "cell_type": "markdown",
   "id": "3c429f74-4520-4441-9ec3-63c82278cd50",
   "metadata": {},
   "source": [
    "# Citations"
   ]
  },
  {
   "cell_type": "markdown",
   "id": "fe1c88be-370f-4b20-8f8e-b6a46f59af01",
   "metadata": {},
   "source": [
    "1. James, G., Witten, D., Hastie, T., & Tibshirani, R. (2021 - Second Edition). An Introduction to Statistical Learning. Springer New York, Page 1. https://www.statlearning.com/\n",
    "2. R. Anderson, D. (2022, September 20). Statistics. https://www.britannica.com/science/statistics\n",
    "3. Albertson, Aaron. “All Guides: Data Module #1: What Is Research Data?: Data and Statistics.” Libguides.macalester.edu, https://libguides.macalester.edu/c.php?g=527786&p=3608657.\n",
    "4. Hald, Anders (1998). A History of Mathematical Statistics. New York: Wiley. ISBN 978-0-471-17912-2.\n",
    "5. Efron, Bradley (1998), \"R. A. Fisher in the 21st century\", Statistical Science, 13 (2): 95–122, doi:10.1214/ss/1028905930"
   ]
  },
  {
   "cell_type": "code",
   "execution_count": null,
   "id": "5d3736a7-e213-4d41-8998-223d13201009",
   "metadata": {},
   "outputs": [],
   "source": []
  },
  {
   "cell_type": "code",
   "execution_count": null,
   "id": "6bd99e39-e060-4158-a3d0-c0c1347412c6",
   "metadata": {},
   "outputs": [],
   "source": []
  },
  {
   "cell_type": "code",
   "execution_count": null,
   "id": "65477097-3501-4719-9a1f-69aa7305abd2",
   "metadata": {},
   "outputs": [],
   "source": []
  },
  {
   "cell_type": "code",
   "execution_count": null,
   "id": "c505d078-e31f-4d6d-8395-7fc3deec5f72",
   "metadata": {},
   "outputs": [],
   "source": []
  },
  {
   "cell_type": "code",
   "execution_count": null,
   "id": "5f737d2d-2348-44fb-a1f3-a789290031a9",
   "metadata": {},
   "outputs": [],
   "source": []
  },
  {
   "cell_type": "code",
   "execution_count": null,
   "id": "de073be6-2999-4baf-abf7-2db2026be0e5",
   "metadata": {},
   "outputs": [],
   "source": []
  },
  {
   "cell_type": "code",
   "execution_count": null,
   "id": "05b5daa2-1165-488f-9ee9-acdd82b432b3",
   "metadata": {},
   "outputs": [],
   "source": []
  }
 ],
 "metadata": {
  "kernelspec": {
   "display_name": "Python 3 (ipykernel)",
   "language": "python",
   "name": "python3"
  },
  "language_info": {
   "codemirror_mode": {
    "name": "ipython",
    "version": 3
   },
   "file_extension": ".py",
   "mimetype": "text/x-python",
   "name": "python",
   "nbconvert_exporter": "python",
   "pygments_lexer": "ipython3",
   "version": "3.9.12"
  }
 },
 "nbformat": 4,
 "nbformat_minor": 5
}
